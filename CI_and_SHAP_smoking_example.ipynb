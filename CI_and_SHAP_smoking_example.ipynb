{
 "cells": [
  {
   "cell_type": "code",
   "execution_count": 120,
   "id": "138ed661",
   "metadata": {},
   "outputs": [],
   "source": [
    "import graphviz\n",
    "import logging\n",
    "import matplotlib.pyplot as plt\n",
    "import numpy as np\n",
    "import pandas as pd\n",
    "import shap\n",
    "import statsmodels.api as sm\n",
    "import statsmodels.formula.api as smf\n",
    "import xgboost as xgb\n",
    "from io import StringIO\n",
    "from pgmpy.factors.discrete import TabularCPD\n",
    "from pgmpy.models import BayesianNetwork\n",
    "from scipy.stats import chi2_contingency\n",
    "from sklearn.metrics import roc_auc_score\n",
    "\n",
    "\n",
    "np.random.seed(100)\n",
    "\n",
    "# Only for the sake of cleaner output in this example\n",
    "logging.getLogger(\"pgmpy\").setLevel(logging.ERROR)  "
   ]
  },
  {
   "cell_type": "markdown",
   "id": "3cc3e02f",
   "metadata": {},
   "source": [
    "# Functions"
   ]
  },
  {
   "cell_type": "code",
   "execution_count": 121,
   "id": "0389552c",
   "metadata": {},
   "outputs": [],
   "source": [
    "def get_OR_for_treatment(df_a, df_b, outcome_col='lung_cancer_death'):\n",
    "    a = df_a[outcome_col].sum()\n",
    "    b = len(df_a) - a\n",
    "\n",
    "    c = df_b[outcome_col].sum()\n",
    "    d = len(df_b) - c\n",
    "\n",
    "    OR = (a / b) / (c / d)\n",
    "\n",
    "    return OR"
   ]
  },
  {
   "cell_type": "markdown",
   "id": "e6d20f61",
   "metadata": {},
   "source": [
    "# Define the Conditional Probability Distributions (CPDs)"
   ]
  },
  {
   "cell_type": "code",
   "execution_count": 122,
   "id": "b57b697d",
   "metadata": {},
   "outputs": [],
   "source": [
    "cpd_residential_location = TabularCPD(\n",
    "    variable='residential_location',\n",
    "    variable_card=2,\n",
    "    values=[[0.8], [0.2]],\n",
    "    state_names={'residential_location': ['Urban', 'Rural']}\n",
    ").normalize(inplace=False)\n",
    "\n",
    "cpd_smoking = TabularCPD(\n",
    "    variable='smoking',\n",
    "    variable_card=2,\n",
    "    values=[\n",
    "        [0.1, 0.9],  # smoking = 'No'\n",
    "        [0.9, 0.1]   # smoking = 'Yes'\n",
    "    ],\n",
    "    evidence=['residential_location'],\n",
    "    evidence_card=[2],\n",
    "    state_names={\n",
    "        'smoking': ['No', 'Yes'],\n",
    "        'residential_location': ['Urban', 'Rural']\n",
    "    }\n",
    ").normalize(inplace=False)\n",
    "\n",
    "cpd_lung_function = TabularCPD(\n",
    "    variable='lung_function',\n",
    "    variable_card=3,\n",
    "    values=[\n",
    "        # +-------+-------+-------+-------+\n",
    "        # |  no   |  no   |  yes  |  yes  |\n",
    "        # +-------+-------+-------+-------+\n",
    "        # | urban | rural | urban | rural |\n",
    "        # +-------+-------+-------+-------+\n",
    "        [0.3, 0.3, 0.5, 0.4],  # lung_function = 'impaired'\n",
    "        [0.5, 0.6, 0.1, 0.1],  # lung_function = 'normal'\n",
    "        [0.2, 0.2, 0.6, 0.4]   # lung_function = 'severely impaired'\n",
    "        # [0.35, 0.2, 0.55, 0.4],  # lung_function = 'impaired'\n",
    "        # [0.25, 0.4, 0.45, 0.3],  # lung_function = 'normal'\n",
    "        # [0.35, 0.2, 0.65, 0.5]   # lung_function = 'severely impaired'\n",
    "    ],\n",
    "    evidence=['smoking', 'residential_location'],\n",
    "    evidence_card=[2, 2],\n",
    "    state_names={\n",
    "        'lung_function': ['impaired', 'normal', 'severely_impaired'],\n",
    "        'smoking': ['No', 'Yes'],\n",
    "        'residential_location': ['Urban', 'Rural']\n",
    "    }\n",
    ").normalize(inplace=False)\n",
    "\n",
    "cpd_lung_cancer_death = TabularCPD(\n",
    "    variable='lung_cancer_death',\n",
    "    variable_card=2,\n",
    "    values=[\n",
    "        # +----------+--------+-------------------+----------+--------+-------------------+\n",
    "        # |    no    |   no   |        no         |   yes    |  yes   |        yes        |\n",
    "        # +----------+--------+-------------------+----------+--------+-------------------+\n",
    "        # | impaired | normal | severely_impaired | impaired | normal | severely_impaired |\n",
    "        # +----------+--------+-------------------+----------+--------+-------------------+\n",
    "        [0.5, 0.5, 0.5, 0.2, 0.2, 0.2],  # lung_cancer_death = 0 (no death)\n",
    "        [0.5, 0.5, 0.5, 0.7, 0.7, 0.7]   # lung_cancer_death = 1 (death)\n",
    "    ],\n",
    "    evidence=['smoking', 'lung_function'],\n",
    "    evidence_card=[2, 3],\n",
    "    state_names={\n",
    "        'smoking': ['No', 'Yes'],\n",
    "        'lung_function': ['impaired', 'normal', 'severely_impaired'],\n",
    "        'lung_cancer_death': [0, 1]\n",
    "    }\n",
    ").normalize(inplace=False)"
   ]
  },
  {
   "cell_type": "code",
   "execution_count": 123,
   "id": "efdcc03f",
   "metadata": {},
   "outputs": [],
   "source": [
    "cpd_lung_cancer_death.to_csv('cpd_lung_cancer_death.csv')"
   ]
  },
  {
   "cell_type": "code",
   "execution_count": 124,
   "id": "2940423b",
   "metadata": {},
   "outputs": [],
   "source": [
    "model = BayesianNetwork([\n",
    "    ('residential_location', 'smoking'),\n",
    "    ('residential_location', 'lung_function'),\n",
    "    ('smoking', 'lung_function'),\n",
    "    ('smoking', 'lung_cancer_death'),\n",
    "    ('lung_function', 'lung_cancer_death')\n",
    "    ])\n",
    "\n",
    "model.add_cpds(\n",
    "    cpd_residential_location, \n",
    "    cpd_smoking, \n",
    "    cpd_lung_function, \n",
    "    cpd_lung_cancer_death\n",
    "    )"
   ]
  },
  {
   "cell_type": "code",
   "execution_count": 125,
   "id": "819335c9",
   "metadata": {},
   "outputs": [
    {
     "data": {
      "image/svg+xml": [
       "<?xml version=\"1.0\" encoding=\"UTF-8\" standalone=\"no\"?>\n",
       "<!DOCTYPE svg PUBLIC \"-//W3C//DTD SVG 1.1//EN\"\n",
       " \"http://www.w3.org/Graphics/SVG/1.1/DTD/svg11.dtd\">\n",
       "<!-- Generated by graphviz version 12.2.1 (20241206.2353)\n",
       " -->\n",
       "<!-- Pages: 1 -->\n",
       "<svg width=\"368pt\" height=\"260pt\"\n",
       " viewBox=\"0.00 0.00 368.00 260.00\" xmlns=\"http://www.w3.org/2000/svg\" xmlns:xlink=\"http://www.w3.org/1999/xlink\">\n",
       "<g id=\"graph0\" class=\"graph\" transform=\"scale(1 1) rotate(0) translate(4 256)\">\n",
       "<polygon fill=\"white\" stroke=\"none\" points=\"-4,4 -4,-256 364,-256 364,4 -4,4\"/>\n",
       "<!-- residential_location -->\n",
       "<g id=\"node1\" class=\"node\">\n",
       "<title>residential_location</title>\n",
       "<ellipse fill=\"none\" stroke=\"black\" cx=\"186.89\" cy=\"-234\" rx=\"83.6\" ry=\"18\"/>\n",
       "<text text-anchor=\"middle\" x=\"186.89\" y=\"-228.95\" font-family=\"Times,serif\" font-size=\"14.00\">residential_location</text>\n",
       "</g>\n",
       "<!-- smoking -->\n",
       "<g id=\"node2\" class=\"node\">\n",
       "<title>smoking</title>\n",
       "<ellipse fill=\"none\" stroke=\"black\" cx=\"255.89\" cy=\"-162\" rx=\"43.16\" ry=\"18\"/>\n",
       "<text text-anchor=\"middle\" x=\"255.89\" y=\"-156.95\" font-family=\"Times,serif\" font-size=\"14.00\">smoking</text>\n",
       "</g>\n",
       "<!-- residential_location&#45;&gt;smoking -->\n",
       "<g id=\"edge1\" class=\"edge\">\n",
       "<title>residential_location&#45;&gt;smoking</title>\n",
       "<path fill=\"none\" stroke=\"black\" d=\"M203.6,-216.05C212.23,-207.29 222.92,-196.45 232.38,-186.86\"/>\n",
       "<polygon fill=\"black\" stroke=\"black\" points=\"234.7,-189.49 239.23,-179.91 229.72,-184.57 234.7,-189.49\"/>\n",
       "</g>\n",
       "<!-- lung_function -->\n",
       "<g id=\"node3\" class=\"node\">\n",
       "<title>lung_function</title>\n",
       "<ellipse fill=\"none\" stroke=\"black\" cx=\"119.89\" cy=\"-90\" rx=\"62.61\" ry=\"18\"/>\n",
       "<text text-anchor=\"middle\" x=\"119.89\" y=\"-84.95\" font-family=\"Times,serif\" font-size=\"14.00\">lung_function</text>\n",
       "</g>\n",
       "<!-- residential_location&#45;&gt;lung_function -->\n",
       "<g id=\"edge2\" class=\"edge\">\n",
       "<title>residential_location&#45;&gt;lung_function</title>\n",
       "<path fill=\"none\" stroke=\"black\" d=\"M178.81,-215.87C167.39,-191.67 146.42,-147.21 132.82,-118.39\"/>\n",
       "<polygon fill=\"black\" stroke=\"black\" points=\"136.08,-117.11 128.65,-109.56 129.75,-120.1 136.08,-117.11\"/>\n",
       "</g>\n",
       "<!-- smoking&#45;&gt;lung_function -->\n",
       "<g id=\"edge3\" class=\"edge\">\n",
       "<title>smoking&#45;&gt;lung_function</title>\n",
       "<path fill=\"none\" stroke=\"black\" d=\"M229.35,-147.34C209.37,-137.06 181.68,-122.8 159.14,-111.2\"/>\n",
       "<polygon fill=\"black\" stroke=\"black\" points=\"161.04,-108.24 150.55,-106.78 157.84,-114.47 161.04,-108.24\"/>\n",
       "</g>\n",
       "<!-- lung_cancer_death -->\n",
       "<g id=\"node4\" class=\"node\">\n",
       "<title>lung_cancer_death</title>\n",
       "<ellipse fill=\"none\" stroke=\"black\" cx=\"205.89\" cy=\"-18\" rx=\"80.52\" ry=\"18\"/>\n",
       "<text text-anchor=\"middle\" x=\"205.89\" y=\"-12.95\" font-family=\"Times,serif\" font-size=\"14.00\">lung_cancer_death</text>\n",
       "</g>\n",
       "<!-- smoking&#45;&gt;lung_cancer_death -->\n",
       "<g id=\"edge4\" class=\"edge\">\n",
       "<title>smoking&#45;&gt;lung_cancer_death</title>\n",
       "<path fill=\"none\" stroke=\"black\" d=\"M249.86,-143.87C241.38,-119.78 225.82,-75.6 215.67,-46.77\"/>\n",
       "<polygon fill=\"black\" stroke=\"black\" points=\"219.07,-45.89 212.45,-37.62 212.47,-48.21 219.07,-45.89\"/>\n",
       "</g>\n",
       "<!-- lung_function&#45;&gt;lung_cancer_death -->\n",
       "<g id=\"edge5\" class=\"edge\">\n",
       "<title>lung_function&#45;&gt;lung_cancer_death</title>\n",
       "<path fill=\"none\" stroke=\"black\" d=\"M139.84,-72.76C150.67,-63.95 164.28,-52.87 176.32,-43.07\"/>\n",
       "<polygon fill=\"black\" stroke=\"black\" points=\"178.44,-45.86 183.98,-36.83 174.02,-40.43 178.44,-45.86\"/>\n",
       "</g>\n",
       "</g>\n",
       "</svg>\n"
      ],
      "text/plain": [
       "<graphviz.sources.Source at 0x360f3c460>"
      ]
     },
     "execution_count": 125,
     "metadata": {},
     "output_type": "execute_result"
    }
   ],
   "source": [
    "dot = model.to_graphviz()\n",
    "dot.graph_attr.update(ratio=0.7)\n",
    "graphviz.Source(dot.to_string())"
   ]
  },
  {
   "cell_type": "code",
   "execution_count": 126,
   "id": "7fbb1ebc",
   "metadata": {},
   "outputs": [
    {
     "data": {
      "text/html": [
       "<div>\n",
       "<style scoped>\n",
       "    .dataframe tbody tr th:only-of-type {\n",
       "        vertical-align: middle;\n",
       "    }\n",
       "\n",
       "    .dataframe tbody tr th {\n",
       "        vertical-align: top;\n",
       "    }\n",
       "\n",
       "    .dataframe thead th {\n",
       "        text-align: right;\n",
       "    }\n",
       "</style>\n",
       "<table border=\"1\" class=\"dataframe\">\n",
       "  <thead>\n",
       "    <tr style=\"text-align: right;\">\n",
       "      <th></th>\n",
       "      <th>lung_cancer_death</th>\n",
       "      <th>residential_location</th>\n",
       "      <th>smoking</th>\n",
       "      <th>lung_function</th>\n",
       "    </tr>\n",
       "  </thead>\n",
       "  <tbody>\n",
       "    <tr>\n",
       "      <th>3467</th>\n",
       "      <td>0</td>\n",
       "      <td>Rural</td>\n",
       "      <td>No</td>\n",
       "      <td>normal</td>\n",
       "    </tr>\n",
       "    <tr>\n",
       "      <th>167</th>\n",
       "      <td>0</td>\n",
       "      <td>Urban</td>\n",
       "      <td>No</td>\n",
       "      <td>impaired</td>\n",
       "    </tr>\n",
       "    <tr>\n",
       "      <th>9746</th>\n",
       "      <td>1</td>\n",
       "      <td>Urban</td>\n",
       "      <td>Yes</td>\n",
       "      <td>severely_impaired</td>\n",
       "    </tr>\n",
       "    <tr>\n",
       "      <th>7090</th>\n",
       "      <td>0</td>\n",
       "      <td>Urban</td>\n",
       "      <td>No</td>\n",
       "      <td>impaired</td>\n",
       "    </tr>\n",
       "    <tr>\n",
       "      <th>1064</th>\n",
       "      <td>0</td>\n",
       "      <td>Urban</td>\n",
       "      <td>Yes</td>\n",
       "      <td>normal</td>\n",
       "    </tr>\n",
       "    <tr>\n",
       "      <th>7768</th>\n",
       "      <td>0</td>\n",
       "      <td>Urban</td>\n",
       "      <td>Yes</td>\n",
       "      <td>impaired</td>\n",
       "    </tr>\n",
       "    <tr>\n",
       "      <th>2539</th>\n",
       "      <td>1</td>\n",
       "      <td>Urban</td>\n",
       "      <td>Yes</td>\n",
       "      <td>impaired</td>\n",
       "    </tr>\n",
       "    <tr>\n",
       "      <th>6431</th>\n",
       "      <td>1</td>\n",
       "      <td>Urban</td>\n",
       "      <td>Yes</td>\n",
       "      <td>impaired</td>\n",
       "    </tr>\n",
       "    <tr>\n",
       "      <th>2960</th>\n",
       "      <td>0</td>\n",
       "      <td>Urban</td>\n",
       "      <td>No</td>\n",
       "      <td>severely_impaired</td>\n",
       "    </tr>\n",
       "    <tr>\n",
       "      <th>8831</th>\n",
       "      <td>1</td>\n",
       "      <td>Urban</td>\n",
       "      <td>Yes</td>\n",
       "      <td>severely_impaired</td>\n",
       "    </tr>\n",
       "  </tbody>\n",
       "</table>\n",
       "</div>"
      ],
      "text/plain": [
       "      lung_cancer_death residential_location smoking      lung_function\n",
       "3467                  0                Rural      No             normal\n",
       "167                   0                Urban      No           impaired\n",
       "9746                  1                Urban     Yes  severely_impaired\n",
       "7090                  0                Urban      No           impaired\n",
       "1064                  0                Urban     Yes             normal\n",
       "7768                  0                Urban     Yes           impaired\n",
       "2539                  1                Urban     Yes           impaired\n",
       "6431                  1                Urban     Yes           impaired\n",
       "2960                  0                Urban      No  severely_impaired\n",
       "8831                  1                Urban     Yes  severely_impaired"
      ]
     },
     "execution_count": 126,
     "metadata": {},
     "output_type": "execute_result"
    }
   ],
   "source": [
    "N = 10_000\n",
    "\n",
    "df = model.simulate(n_samples=N, show_progress=False)\n",
    "df.sample(10)"
   ]
  },
  {
   "cell_type": "code",
   "execution_count": 127,
   "id": "015062ff",
   "metadata": {},
   "outputs": [],
   "source": [
    "df['lung_function'] = df['lung_function'].astype('category')\n",
    "\n",
    "# set an explicit reference category\n",
    "df['lung_function'] = pd.Categorical(\n",
    "    df['lung_function'],\n",
    "    categories=['normal', 'impaired', 'severely_impaired'],\n",
    "    ordered=False\n",
    ")"
   ]
  },
  {
   "cell_type": "markdown",
   "id": "de156a33",
   "metadata": {},
   "source": [
    "## CPD sanity checks"
   ]
  },
  {
   "cell_type": "code",
   "execution_count": 128,
   "id": "2d65613c",
   "metadata": {},
   "outputs": [
    {
     "data": {
      "text/html": [
       "<div>\n",
       "<style scoped>\n",
       "    .dataframe tbody tr th:only-of-type {\n",
       "        vertical-align: middle;\n",
       "    }\n",
       "\n",
       "    .dataframe tbody tr th {\n",
       "        vertical-align: top;\n",
       "    }\n",
       "\n",
       "    .dataframe thead th {\n",
       "        text-align: right;\n",
       "    }\n",
       "</style>\n",
       "<table border=\"1\" class=\"dataframe\">\n",
       "  <thead>\n",
       "    <tr style=\"text-align: right;\">\n",
       "      <th></th>\n",
       "      <th>proportion</th>\n",
       "    </tr>\n",
       "    <tr>\n",
       "      <th>residential_location</th>\n",
       "      <th></th>\n",
       "    </tr>\n",
       "  </thead>\n",
       "  <tbody>\n",
       "    <tr>\n",
       "      <th>Urban</th>\n",
       "      <td>0.8</td>\n",
       "    </tr>\n",
       "    <tr>\n",
       "      <th>Rural</th>\n",
       "      <td>0.2</td>\n",
       "    </tr>\n",
       "  </tbody>\n",
       "</table>\n",
       "</div>"
      ],
      "text/plain": [
       "                      proportion\n",
       "residential_location            \n",
       "Urban                        0.8\n",
       "Rural                        0.2"
      ]
     },
     "execution_count": 128,
     "metadata": {},
     "output_type": "execute_result"
    }
   ],
   "source": [
    "df['residential_location'].value_counts(normalize=True).to_frame().round(2)"
   ]
  },
  {
   "cell_type": "code",
   "execution_count": 129,
   "id": "30a6b73b",
   "metadata": {},
   "outputs": [
    {
     "data": {
      "text/html": [
       "<div>\n",
       "<style scoped>\n",
       "    .dataframe tbody tr th:only-of-type {\n",
       "        vertical-align: middle;\n",
       "    }\n",
       "\n",
       "    .dataframe tbody tr th {\n",
       "        vertical-align: top;\n",
       "    }\n",
       "\n",
       "    .dataframe thead th {\n",
       "        text-align: right;\n",
       "    }\n",
       "</style>\n",
       "<table border=\"1\" class=\"dataframe\">\n",
       "  <thead>\n",
       "    <tr style=\"text-align: right;\">\n",
       "      <th></th>\n",
       "      <th></th>\n",
       "      <th>proportion</th>\n",
       "    </tr>\n",
       "    <tr>\n",
       "      <th>residential_location</th>\n",
       "      <th>smoking</th>\n",
       "      <th></th>\n",
       "    </tr>\n",
       "  </thead>\n",
       "  <tbody>\n",
       "    <tr>\n",
       "      <th rowspan=\"2\" valign=\"top\">Rural</th>\n",
       "      <th>No</th>\n",
       "      <td>0.9</td>\n",
       "    </tr>\n",
       "    <tr>\n",
       "      <th>Yes</th>\n",
       "      <td>0.1</td>\n",
       "    </tr>\n",
       "    <tr>\n",
       "      <th rowspan=\"2\" valign=\"top\">Urban</th>\n",
       "      <th>No</th>\n",
       "      <td>0.1</td>\n",
       "    </tr>\n",
       "    <tr>\n",
       "      <th>Yes</th>\n",
       "      <td>0.9</td>\n",
       "    </tr>\n",
       "  </tbody>\n",
       "</table>\n",
       "</div>"
      ],
      "text/plain": [
       "                              proportion\n",
       "residential_location smoking            \n",
       "Rural                No              0.9\n",
       "                     Yes             0.1\n",
       "Urban                No              0.1\n",
       "                     Yes             0.9"
      ]
     },
     "execution_count": 129,
     "metadata": {},
     "output_type": "execute_result"
    }
   ],
   "source": [
    "df.groupby('residential_location')['smoking'].value_counts(normalize=True).to_frame().round(2).sort_index()"
   ]
  },
  {
   "cell_type": "code",
   "execution_count": 130,
   "id": "14096a64",
   "metadata": {},
   "outputs": [
    {
     "data": {
      "text/html": [
       "<div>\n",
       "<style scoped>\n",
       "    .dataframe tbody tr th:only-of-type {\n",
       "        vertical-align: middle;\n",
       "    }\n",
       "\n",
       "    .dataframe tbody tr th {\n",
       "        vertical-align: top;\n",
       "    }\n",
       "\n",
       "    .dataframe thead th {\n",
       "        text-align: right;\n",
       "    }\n",
       "</style>\n",
       "<table border=\"1\" class=\"dataframe\">\n",
       "  <thead>\n",
       "    <tr style=\"text-align: right;\">\n",
       "      <th></th>\n",
       "      <th></th>\n",
       "      <th></th>\n",
       "      <th>proportion</th>\n",
       "    </tr>\n",
       "    <tr>\n",
       "      <th>residential_location</th>\n",
       "      <th>smoking</th>\n",
       "      <th>lung_function</th>\n",
       "      <th></th>\n",
       "    </tr>\n",
       "  </thead>\n",
       "  <tbody>\n",
       "    <tr>\n",
       "      <th rowspan=\"6\" valign=\"top\">Rural</th>\n",
       "      <th rowspan=\"3\" valign=\"top\">No</th>\n",
       "      <th>normal</th>\n",
       "      <td>0.55</td>\n",
       "    </tr>\n",
       "    <tr>\n",
       "      <th>impaired</th>\n",
       "      <td>0.27</td>\n",
       "    </tr>\n",
       "    <tr>\n",
       "      <th>severely_impaired</th>\n",
       "      <td>0.18</td>\n",
       "    </tr>\n",
       "    <tr>\n",
       "      <th rowspan=\"3\" valign=\"top\">Yes</th>\n",
       "      <th>normal</th>\n",
       "      <td>0.13</td>\n",
       "    </tr>\n",
       "    <tr>\n",
       "      <th>impaired</th>\n",
       "      <td>0.37</td>\n",
       "    </tr>\n",
       "    <tr>\n",
       "      <th>severely_impaired</th>\n",
       "      <td>0.50</td>\n",
       "    </tr>\n",
       "    <tr>\n",
       "      <th rowspan=\"6\" valign=\"top\">Urban</th>\n",
       "      <th rowspan=\"3\" valign=\"top\">No</th>\n",
       "      <th>normal</th>\n",
       "      <td>0.46</td>\n",
       "    </tr>\n",
       "    <tr>\n",
       "      <th>impaired</th>\n",
       "      <td>0.30</td>\n",
       "    </tr>\n",
       "    <tr>\n",
       "      <th>severely_impaired</th>\n",
       "      <td>0.24</td>\n",
       "    </tr>\n",
       "    <tr>\n",
       "      <th rowspan=\"3\" valign=\"top\">Yes</th>\n",
       "      <th>normal</th>\n",
       "      <td>0.09</td>\n",
       "    </tr>\n",
       "    <tr>\n",
       "      <th>impaired</th>\n",
       "      <td>0.42</td>\n",
       "    </tr>\n",
       "    <tr>\n",
       "      <th>severely_impaired</th>\n",
       "      <td>0.49</td>\n",
       "    </tr>\n",
       "  </tbody>\n",
       "</table>\n",
       "</div>"
      ],
      "text/plain": [
       "                                                proportion\n",
       "residential_location smoking lung_function                \n",
       "Rural                No      normal                   0.55\n",
       "                             impaired                 0.27\n",
       "                             severely_impaired        0.18\n",
       "                     Yes     normal                   0.13\n",
       "                             impaired                 0.37\n",
       "                             severely_impaired        0.50\n",
       "Urban                No      normal                   0.46\n",
       "                             impaired                 0.30\n",
       "                             severely_impaired        0.24\n",
       "                     Yes     normal                   0.09\n",
       "                             impaired                 0.42\n",
       "                             severely_impaired        0.49"
      ]
     },
     "execution_count": 130,
     "metadata": {},
     "output_type": "execute_result"
    }
   ],
   "source": [
    "df.groupby(['residential_location', 'smoking'])['lung_function'].value_counts(normalize=True).to_frame().round(2).sort_index()"
   ]
  },
  {
   "cell_type": "code",
   "execution_count": 131,
   "id": "431f1d6a",
   "metadata": {},
   "outputs": [
    {
     "data": {
      "text/html": [
       "<div>\n",
       "<style scoped>\n",
       "    .dataframe tbody tr th:only-of-type {\n",
       "        vertical-align: middle;\n",
       "    }\n",
       "\n",
       "    .dataframe tbody tr th {\n",
       "        vertical-align: top;\n",
       "    }\n",
       "\n",
       "    .dataframe thead th {\n",
       "        text-align: right;\n",
       "    }\n",
       "</style>\n",
       "<table border=\"1\" class=\"dataframe\">\n",
       "  <thead>\n",
       "    <tr style=\"text-align: right;\">\n",
       "      <th></th>\n",
       "      <th></th>\n",
       "      <th>proportion</th>\n",
       "    </tr>\n",
       "    <tr>\n",
       "      <th>lung_function</th>\n",
       "      <th>lung_cancer_death</th>\n",
       "      <th></th>\n",
       "    </tr>\n",
       "  </thead>\n",
       "  <tbody>\n",
       "    <tr>\n",
       "      <th rowspan=\"2\" valign=\"top\">normal</th>\n",
       "      <th>0</th>\n",
       "      <td>0.43</td>\n",
       "    </tr>\n",
       "    <tr>\n",
       "      <th>1</th>\n",
       "      <td>0.57</td>\n",
       "    </tr>\n",
       "    <tr>\n",
       "      <th rowspan=\"2\" valign=\"top\">impaired</th>\n",
       "      <th>0</th>\n",
       "      <td>0.29</td>\n",
       "    </tr>\n",
       "    <tr>\n",
       "      <th>1</th>\n",
       "      <td>0.71</td>\n",
       "    </tr>\n",
       "    <tr>\n",
       "      <th rowspan=\"2\" valign=\"top\">severely_impaired</th>\n",
       "      <th>0</th>\n",
       "      <td>0.26</td>\n",
       "    </tr>\n",
       "    <tr>\n",
       "      <th>1</th>\n",
       "      <td>0.74</td>\n",
       "    </tr>\n",
       "  </tbody>\n",
       "</table>\n",
       "</div>"
      ],
      "text/plain": [
       "                                     proportion\n",
       "lung_function     lung_cancer_death            \n",
       "normal            0                        0.43\n",
       "                  1                        0.57\n",
       "impaired          0                        0.29\n",
       "                  1                        0.71\n",
       "severely_impaired 0                        0.26\n",
       "                  1                        0.74"
      ]
     },
     "execution_count": 131,
     "metadata": {},
     "output_type": "execute_result"
    }
   ],
   "source": [
    "df.groupby('lung_function', observed=False)['lung_cancer_death'].value_counts(normalize=True).to_frame().round(2).sort_index()"
   ]
  },
  {
   "cell_type": "markdown",
   "id": "dcb9e143",
   "metadata": {},
   "source": [
    "# Fit a model with all covariates"
   ]
  },
  {
   "cell_type": "code",
   "execution_count": null,
   "id": "bd5a4ae1",
   "metadata": {},
   "outputs": [
    {
     "name": "stdout",
     "output_type": "stream",
     "text": [
      "                 Generalized Linear Model Regression Results                  \n",
      "==============================================================================\n",
      "Dep. Variable:      lung_cancer_death   No. Observations:                10000\n",
      "Model:                            GLM   Df Residuals:                     9995\n",
      "Model Family:                Binomial   Df Model:                            4\n",
      "Link Function:                  Logit   Scale:                          1.0000\n",
      "Method:                          IRLS   Log-Likelihood:                -5817.8\n",
      "Date:                Fri, 11 Apr 2025   Deviance:                       11636.\n",
      "Time:                        11:55:13   Pearson chi2:                 1.00e+04\n",
      "No. Iterations:                     5   Pseudo R-squ. (CS):            0.06219\n",
      "Covariance Type:            nonrobust                                         \n",
      "======================================================================================================\n",
      "                                         coef    std err          z      P>|z|      [0.025      0.975]\n",
      "------------------------------------------------------------------------------------------------------\n",
      "Intercept                             -0.0642      0.053     -1.204      0.229      -0.169       0.040\n",
      "smoking[T.Yes]                         1.1597      0.073     15.848      0.000       1.016       1.303\n",
      "lung_function[T.impaired]              0.0821      0.065      1.264      0.206      -0.045       0.209\n",
      "lung_function[T.severely_impaired]     0.1314      0.067      1.975      0.048       0.001       0.262\n",
      "residential_location[T.Urban]         -0.0024      0.076     -0.031      0.975      -0.151       0.147\n",
      "======================================================================================================\n",
      "\n",
      "ROC AUC: 0.63\n"
     ]
    }
   ],
   "source": [
    "model_full = smf.glm(\n",
    "    formula='lung_cancer_death ~ smoking + lung_function + residential_location',\n",
    "    data=df,\n",
    "    family=sm.families.Binomial()\n",
    ").fit()\n",
    "\n",
    "print(model_full.summary())\n",
    "\n",
    "y_pred_probs = model_full.predict(df)\n",
    "y_true = df['lung_cancer_death']\n",
    "roc_auc = roc_auc_score(y_true, y_pred_probs)\n",
    "print(f\"\\nROC AUC: {roc_auc:.2f}\")"
   ]
  },
  {
   "cell_type": "code",
   "execution_count": 133,
   "id": "542f7176",
   "metadata": {},
   "outputs": [
    {
     "name": "stdout",
     "output_type": "stream",
     "text": [
      "ESTIMATED odds ratio for urban over rural: 1.00\n",
      "ESTIMATED log odds ratio urban over rural: -0.00\n"
     ]
    }
   ],
   "source": [
    "urban_log_OR = pd.read_html(StringIO(model_full.summary().tables[1].as_html()), header=0, index_col=0)[0].loc['residential_location[T.Urban]', 'coef']\n",
    "\n",
    "print(f'ESTIMATED odds ratio for urban over rural: {np.exp(urban_log_OR):.2f}\\nESTIMATED log odds ratio urban over rural: {urban_log_OR:.2f}')"
   ]
  },
  {
   "cell_type": "code",
   "execution_count": 134,
   "id": "fd8427e9",
   "metadata": {},
   "outputs": [
    {
     "data": {
      "text/html": [
       "<div>\n",
       "<style scoped>\n",
       "    .dataframe tbody tr th:only-of-type {\n",
       "        vertical-align: middle;\n",
       "    }\n",
       "\n",
       "    .dataframe tbody tr th {\n",
       "        vertical-align: top;\n",
       "    }\n",
       "\n",
       "    .dataframe thead th {\n",
       "        text-align: right;\n",
       "    }\n",
       "</style>\n",
       "<table border=\"1\" class=\"dataframe\">\n",
       "  <thead>\n",
       "    <tr style=\"text-align: right;\">\n",
       "      <th></th>\n",
       "      <th>full_model_OR</th>\n",
       "    </tr>\n",
       "  </thead>\n",
       "  <tbody>\n",
       "    <tr>\n",
       "      <th>Intercept</th>\n",
       "      <td>0.94</td>\n",
       "    </tr>\n",
       "    <tr>\n",
       "      <th>smoking[T.Yes]</th>\n",
       "      <td>3.19</td>\n",
       "    </tr>\n",
       "    <tr>\n",
       "      <th>lung_function[T.impaired]</th>\n",
       "      <td>1.09</td>\n",
       "    </tr>\n",
       "    <tr>\n",
       "      <th>lung_function[T.severely_impaired]</th>\n",
       "      <td>1.14</td>\n",
       "    </tr>\n",
       "    <tr>\n",
       "      <th>residential_location[T.Urban]</th>\n",
       "      <td>1.00</td>\n",
       "    </tr>\n",
       "  </tbody>\n",
       "</table>\n",
       "</div>"
      ],
      "text/plain": [
       "                                    full_model_OR\n",
       "Intercept                                    0.94\n",
       "smoking[T.Yes]                               3.19\n",
       "lung_function[T.impaired]                    1.09\n",
       "lung_function[T.severely_impaired]           1.14\n",
       "residential_location[T.Urban]                1.00"
      ]
     },
     "execution_count": 134,
     "metadata": {},
     "output_type": "execute_result"
    }
   ],
   "source": [
    "# It ain't pretty syntax, but it gets the job done.\n",
    "full_model_OR = np.exp(pd.read_html(StringIO(model_full.summary().tables[1].as_html()), header=0, index_col=0)[0]['coef'])\\\n",
    "    .to_frame().rename(columns={'coef': 'full_model_OR'})\n",
    "\n",
    "full_model_OR.round(2)"
   ]
  },
  {
   "cell_type": "markdown",
   "id": "e4a6141c",
   "metadata": {},
   "source": [
    "## Independence tests"
   ]
  },
  {
   "cell_type": "code",
   "execution_count": 135,
   "id": "53849d0a",
   "metadata": {},
   "outputs": [
    {
     "data": {
      "text/html": [
       "<div>\n",
       "<style scoped>\n",
       "    .dataframe tbody tr th:only-of-type {\n",
       "        vertical-align: middle;\n",
       "    }\n",
       "\n",
       "    .dataframe tbody tr th {\n",
       "        vertical-align: top;\n",
       "    }\n",
       "\n",
       "    .dataframe thead th {\n",
       "        text-align: right;\n",
       "    }\n",
       "</style>\n",
       "<table border=\"1\" class=\"dataframe\">\n",
       "  <thead>\n",
       "    <tr style=\"text-align: right;\">\n",
       "      <th></th>\n",
       "      <th>chi2</th>\n",
       "      <th>p_value</th>\n",
       "    </tr>\n",
       "  </thead>\n",
       "  <tbody>\n",
       "    <tr>\n",
       "      <th>residential_location</th>\n",
       "      <td>356.455980</td>\n",
       "      <td>1.664541e-79</td>\n",
       "    </tr>\n",
       "    <tr>\n",
       "      <th>smoking</th>\n",
       "      <td>668.718542</td>\n",
       "      <td>1.897951e-147</td>\n",
       "    </tr>\n",
       "    <tr>\n",
       "      <th>lung_function</th>\n",
       "      <td>197.473016</td>\n",
       "      <td>1.316071e-43</td>\n",
       "    </tr>\n",
       "  </tbody>\n",
       "</table>\n",
       "</div>"
      ],
      "text/plain": [
       "                            chi2        p_value\n",
       "residential_location  356.455980   1.664541e-79\n",
       "smoking               668.718542  1.897951e-147\n",
       "lung_function         197.473016   1.316071e-43"
      ]
     },
     "execution_count": 135,
     "metadata": {},
     "output_type": "execute_result"
    }
   ],
   "source": [
    "chi_sq_results = {}\n",
    "\n",
    "for col in set(df.columns) - {'lung_cancer_death'}:\n",
    "    contingency_table = pd.crosstab(df[col], df['lung_cancer_death'])\n",
    "    chi2, p_value, dof, expected = chi2_contingency(contingency_table)\n",
    "\n",
    "    chi_sq_results[col] = {\n",
    "        'chi2': chi2,\n",
    "        'p_value': p_value\n",
    "    }\n",
    "\n",
    "pd.DataFrame(chi_sq_results).T"
   ]
  },
  {
   "cell_type": "markdown",
   "id": "eed98d47",
   "metadata": {},
   "source": [
    "# Marginal Odds-Ratios"
   ]
  },
  {
   "cell_type": "code",
   "execution_count": 136,
   "id": "21b4cfb7",
   "metadata": {},
   "outputs": [
    {
     "data": {
      "text/html": [
       "<div>\n",
       "<style scoped>\n",
       "    .dataframe tbody tr th:only-of-type {\n",
       "        vertical-align: middle;\n",
       "    }\n",
       "\n",
       "    .dataframe tbody tr th {\n",
       "        vertical-align: top;\n",
       "    }\n",
       "\n",
       "    .dataframe thead th {\n",
       "        text-align: right;\n",
       "    }\n",
       "</style>\n",
       "<table border=\"1\" class=\"dataframe\">\n",
       "  <thead>\n",
       "    <tr style=\"text-align: right;\">\n",
       "      <th></th>\n",
       "      <th>manual_OR</th>\n",
       "    </tr>\n",
       "  </thead>\n",
       "  <tbody>\n",
       "    <tr>\n",
       "      <th>residential_location</th>\n",
       "      <td>2.60</td>\n",
       "    </tr>\n",
       "    <tr>\n",
       "      <th>smoking</th>\n",
       "      <td>3.35</td>\n",
       "    </tr>\n",
       "    <tr>\n",
       "      <th>lung_function_sev_imp</th>\n",
       "      <td>1.15</td>\n",
       "    </tr>\n",
       "    <tr>\n",
       "      <th>lung_function_imp</th>\n",
       "      <td>0.53</td>\n",
       "    </tr>\n",
       "  </tbody>\n",
       "</table>\n",
       "</div>"
      ],
      "text/plain": [
       "                       manual_OR\n",
       "residential_location        2.60\n",
       "smoking                     3.35\n",
       "lung_function_sev_imp       1.15\n",
       "lung_function_imp           0.53"
      ]
     },
     "execution_count": 136,
     "metadata": {},
     "output_type": "execute_result"
    }
   ],
   "source": [
    "manual_OR = {}\n",
    "\n",
    "manual_OR['residential_location'] = get_OR_for_treatment(\n",
    "    df[df['residential_location'] == 'Urban'],\n",
    "    df[df['residential_location'] == 'Rural']\n",
    ")\n",
    "\n",
    "manual_OR['smoking'] = get_OR_for_treatment(\n",
    "    df[df['smoking'] == 'Yes'],\n",
    "    df[df['smoking'] == 'No']\n",
    ")\n",
    "\n",
    "manual_OR['lung_function_sev_imp'] = get_OR_for_treatment(\n",
    "    df[df['lung_function'] == 'severely_impaired'],\n",
    "    df[df['lung_function'] == 'impaired']\n",
    ")\n",
    "\n",
    "manual_OR['lung_function_imp'] = get_OR_for_treatment(\n",
    "    df[df['lung_function'] == 'normal'],\n",
    "    df[df['lung_function'] == 'impaired']\n",
    ")\n",
    "\n",
    "manual_OR = pd.Series(manual_OR, name='manual_OR').to_frame()\n",
    "manual_OR.round(2)"
   ]
  },
  {
   "cell_type": "markdown",
   "id": "733b1561",
   "metadata": {},
   "source": [
    "## Residential Location"
   ]
  },
  {
   "cell_type": "code",
   "execution_count": 137,
   "id": "cdd7faad",
   "metadata": {},
   "outputs": [
    {
     "name": "stdout",
     "output_type": "stream",
     "text": [
      "                 Generalized Linear Model Regression Results                  \n",
      "==============================================================================\n",
      "Dep. Variable:      lung_cancer_death   No. Observations:                10000\n",
      "Model:                            GLM   Df Residuals:                     9998\n",
      "Model Family:                Binomial   Df Model:                            1\n",
      "Link Function:                  Logit   Scale:                          1.0000\n",
      "Method:                          IRLS   Log-Likelihood:                -5969.9\n",
      "Date:                Fri, 11 Apr 2025   Deviance:                       11940.\n",
      "Time:                        11:55:13   Pearson chi2:                 1.00e+04\n",
      "No. Iterations:                     5   Pseudo R-squ. (CS):            0.03323\n",
      "Covariance Type:            nonrobust                                         \n",
      "=================================================================================================\n",
      "                                    coef    std err          z      P>|z|      [0.025      0.975]\n",
      "-------------------------------------------------------------------------------------------------\n",
      "Intercept                         0.0884      0.045      1.971      0.049       0.000       0.176\n",
      "residential_location[T.Urban]     0.9563      0.052     18.540      0.000       0.855       1.057\n",
      "=================================================================================================\n"
     ]
    }
   ],
   "source": [
    "model_adj = smf.glm(\n",
    "    formula='lung_cancer_death ~ residential_location',\n",
    "    data=df,\n",
    "    family=sm.families.Binomial()\n",
    ").fit()\n",
    "\n",
    "print(model_adj.summary())"
   ]
  },
  {
   "cell_type": "code",
   "execution_count": 138,
   "id": "49a7375c",
   "metadata": {},
   "outputs": [
    {
     "name": "stdout",
     "output_type": "stream",
     "text": [
      "True odds ratio: 2.6162\n",
      "True log odds ratio: 0.9617\n"
     ]
    }
   ],
   "source": [
    "samples_urban = model.simulate(n_samples=N, do={'residential_location': 'Urban'}, show_progress=False)\n",
    "samples_rural = model.simulate(n_samples=N, do={'residential_location': 'Rural'}, show_progress=False)\n",
    "\n",
    "residential_location_OR = get_OR_for_treatment(samples_urban, samples_rural)   \n",
    "print(f'True odds ratio: {residential_location_OR:.4f}\\nTrue log odds ratio: {np.log(residential_location_OR):.4f}')"
   ]
  },
  {
   "cell_type": "markdown",
   "id": "ccdf9407",
   "metadata": {},
   "source": [
    "## Smoking"
   ]
  },
  {
   "cell_type": "code",
   "execution_count": 139,
   "id": "e4cf7db8",
   "metadata": {},
   "outputs": [
    {
     "name": "stdout",
     "output_type": "stream",
     "text": [
      "                 Generalized Linear Model Regression Results                  \n",
      "==============================================================================\n",
      "Dep. Variable:      lung_cancer_death   No. Observations:                10000\n",
      "Model:                            GLM   Df Residuals:                     9997\n",
      "Model Family:                Binomial   Df Model:                            2\n",
      "Link Function:                  Logit   Scale:                          1.0000\n",
      "Method:                          IRLS   Log-Likelihood:                -5819.8\n",
      "Date:                Fri, 11 Apr 2025   Deviance:                       11640.\n",
      "Time:                        11:55:13   Pearson chi2:                 1.00e+04\n",
      "No. Iterations:                     5   Pseudo R-squ. (CS):            0.06182\n",
      "Covariance Type:            nonrobust                                         \n",
      "=================================================================================================\n",
      "                                    coef    std err          z      P>|z|      [0.025      0.975]\n",
      "-------------------------------------------------------------------------------------------------\n",
      "Intercept                        -0.0181      0.046     -0.396      0.692      -0.108       0.072\n",
      "residential_location[T.Urban]     0.0064      0.076      0.084      0.933      -0.142       0.155\n",
      "smoking[T.Yes]                    1.2037      0.069     17.349      0.000       1.068       1.340\n",
      "=================================================================================================\n"
     ]
    }
   ],
   "source": [
    "model_adj = smf.glm(\n",
    "    formula='lung_cancer_death ~ residential_location + smoking',\n",
    "    data=df,\n",
    "    family=sm.families.Binomial()\n",
    ").fit()\n",
    "\n",
    "print(model_adj.summary())"
   ]
  },
  {
   "cell_type": "code",
   "execution_count": 140,
   "id": "99bc36bf",
   "metadata": {},
   "outputs": [
    {
     "name": "stdout",
     "output_type": "stream",
     "text": [
      "True odds ratio: 3.4160\n",
      "True log odds ratio: 1.2285\n"
     ]
    }
   ],
   "source": [
    "samples_smoke_no = model.simulate(n_samples=N, do={'smoking': 'No'}, show_progress=False)\n",
    "samples_smoke_yes = model.simulate(n_samples=N, do={'smoking': 'Yes'}, show_progress=False)\n",
    "\n",
    "smoking_OR = get_OR_for_treatment(samples_smoke_yes, samples_smoke_no)  \n",
    "print(f'True odds ratio: {smoking_OR:.4f}\\nTrue log odds ratio: {np.log(smoking_OR):.4f}')"
   ]
  },
  {
   "cell_type": "markdown",
   "id": "d5b89b77",
   "metadata": {},
   "source": [
    "## Lung Function"
   ]
  },
  {
   "cell_type": "code",
   "execution_count": 141,
   "id": "f4d52c64",
   "metadata": {},
   "outputs": [
    {
     "name": "stdout",
     "output_type": "stream",
     "text": [
      "                 Generalized Linear Model Regression Results                  \n",
      "==============================================================================\n",
      "Dep. Variable:      lung_cancer_death   No. Observations:                10000\n",
      "Model:                            GLM   Df Residuals:                     9996\n",
      "Model Family:                Binomial   Df Model:                            3\n",
      "Link Function:                  Logit   Scale:                          1.0000\n",
      "Method:                          IRLS   Log-Likelihood:                -5817.8\n",
      "Date:                Fri, 11 Apr 2025   Deviance:                       11636.\n",
      "Time:                        11:55:14   Pearson chi2:                 1.00e+04\n",
      "No. Iterations:                     5   Pseudo R-squ. (CS):            0.06219\n",
      "Covariance Type:            nonrobust                                         \n",
      "======================================================================================================\n",
      "                                         coef    std err          z      P>|z|      [0.025      0.975]\n",
      "------------------------------------------------------------------------------------------------------\n",
      "Intercept                             -0.0649      0.049     -1.334      0.182      -0.160       0.030\n",
      "lung_function[T.impaired]              0.0820      0.065      1.264      0.206      -0.045       0.209\n",
      "lung_function[T.severely_impaired]     0.1313      0.066      1.976      0.048       0.001       0.262\n",
      "smoking[T.Yes]                         1.1582      0.055     21.206      0.000       1.051       1.265\n",
      "======================================================================================================\n"
     ]
    }
   ],
   "source": [
    "model_adj = smf.glm(\n",
    "    formula='lung_cancer_death ~ lung_function + smoking',\n",
    "    data=df,\n",
    "    family=sm.families.Binomial()\n",
    ").fit()\n",
    "\n",
    "print(model_adj.summary())"
   ]
  },
  {
   "cell_type": "code",
   "execution_count": 142,
   "id": "d15c1621",
   "metadata": {},
   "outputs": [
    {
     "name": "stdout",
     "output_type": "stream",
     "text": [
      "True odds ratio (normal): 1.0136\n",
      "True log odds ratio (normal): 0.0135\n",
      "\n",
      "True odds ratio (severely_impaired): 0.9890\n",
      "True log odds ratio (severely_impaired): -0.0111\n"
     ]
    }
   ],
   "source": [
    "samples_lung_fun_ref = model.simulate(n_samples=N, do={'lung_function': 'impaired'}, show_progress=False)\n",
    "samples_lung_fun_imp = model.simulate(n_samples=N, do={'lung_function': 'normal'}, show_progress=False)\n",
    "samples_lung_fun_sev_imp = model.simulate(n_samples=N, do={'lung_function': 'severely_impaired'}, show_progress=False)\n",
    "\n",
    "lung_fun_imp_OR = get_OR_for_treatment(samples_lung_fun_imp, samples_lung_fun_ref)\n",
    "lung_fun_sev_imp_OR = get_OR_for_treatment(samples_lung_fun_sev_imp, samples_lung_fun_ref)\n",
    "\n",
    "print(f'True odds ratio (normal): {lung_fun_imp_OR:.4f}\\nTrue log odds ratio (normal): {np.log(lung_fun_imp_OR):.4f}')\n",
    "print(f'\\nTrue odds ratio (severely_impaired): {lung_fun_sev_imp_OR:.4f}\\nTrue log odds ratio (severely_impaired): {np.log(lung_fun_sev_imp_OR):.4f}')"
   ]
  },
  {
   "cell_type": "markdown",
   "id": "62dc20ff",
   "metadata": {},
   "source": [
    "### Summarize true odds ratios"
   ]
  },
  {
   "cell_type": "code",
   "execution_count": 143,
   "id": "23b27d1b",
   "metadata": {},
   "outputs": [
    {
     "data": {
      "text/html": [
       "<div>\n",
       "<style scoped>\n",
       "    .dataframe tbody tr th:only-of-type {\n",
       "        vertical-align: middle;\n",
       "    }\n",
       "\n",
       "    .dataframe tbody tr th {\n",
       "        vertical-align: top;\n",
       "    }\n",
       "\n",
       "    .dataframe thead th {\n",
       "        text-align: right;\n",
       "    }\n",
       "</style>\n",
       "<table border=\"1\" class=\"dataframe\">\n",
       "  <thead>\n",
       "    <tr style=\"text-align: right;\">\n",
       "      <th></th>\n",
       "      <th>true_OR</th>\n",
       "    </tr>\n",
       "  </thead>\n",
       "  <tbody>\n",
       "    <tr>\n",
       "      <th>residential_location</th>\n",
       "      <td>2.62</td>\n",
       "    </tr>\n",
       "    <tr>\n",
       "      <th>smoking</th>\n",
       "      <td>3.42</td>\n",
       "    </tr>\n",
       "    <tr>\n",
       "      <th>lung_function_imp</th>\n",
       "      <td>1.01</td>\n",
       "    </tr>\n",
       "    <tr>\n",
       "      <th>lung_function_sev_imp</th>\n",
       "      <td>0.99</td>\n",
       "    </tr>\n",
       "  </tbody>\n",
       "</table>\n",
       "</div>"
      ],
      "text/plain": [
       "                       true_OR\n",
       "residential_location      2.62\n",
       "smoking                   3.42\n",
       "lung_function_imp         1.01\n",
       "lung_function_sev_imp     0.99"
      ]
     },
     "execution_count": 143,
     "metadata": {},
     "output_type": "execute_result"
    }
   ],
   "source": [
    "true_OR = pd.Series({\n",
    "    'residential_location': residential_location_OR,\n",
    "    'smoking': smoking_OR,\n",
    "    'lung_function_imp': lung_fun_imp_OR,\n",
    "    'lung_function_sev_imp': lung_fun_sev_imp_OR\n",
    "}, name='true_OR').to_frame()\n",
    "\n",
    "true_OR.round(2)"
   ]
  },
  {
   "cell_type": "markdown",
   "id": "ea480b57",
   "metadata": {},
   "source": [
    "# SHAP values"
   ]
  },
  {
   "cell_type": "code",
   "execution_count": 144,
   "id": "0e841554",
   "metadata": {},
   "outputs": [
    {
     "name": "stdout",
     "output_type": "stream",
     "text": [
      "ROC AUC: 0.63\n"
     ]
    },
    {
     "data": {
      "text/html": [
       "<div>\n",
       "<style scoped>\n",
       "    .dataframe tbody tr th:only-of-type {\n",
       "        vertical-align: middle;\n",
       "    }\n",
       "\n",
       "    .dataframe tbody tr th {\n",
       "        vertical-align: top;\n",
       "    }\n",
       "\n",
       "    .dataframe thead th {\n",
       "        text-align: right;\n",
       "    }\n",
       "</style>\n",
       "<table border=\"1\" class=\"dataframe\">\n",
       "  <thead>\n",
       "    <tr style=\"text-align: right;\">\n",
       "      <th></th>\n",
       "      <th>Feature</th>\n",
       "      <th>Mean Absolute SHAP Value</th>\n",
       "    </tr>\n",
       "  </thead>\n",
       "  <tbody>\n",
       "    <tr>\n",
       "      <th>1</th>\n",
       "      <td>smoking_Yes</td>\n",
       "      <td>0.477</td>\n",
       "    </tr>\n",
       "    <tr>\n",
       "      <th>3</th>\n",
       "      <td>lung_function_severely_impaired</td>\n",
       "      <td>0.040</td>\n",
       "    </tr>\n",
       "    <tr>\n",
       "      <th>2</th>\n",
       "      <td>lung_function_impaired</td>\n",
       "      <td>0.017</td>\n",
       "    </tr>\n",
       "    <tr>\n",
       "      <th>0</th>\n",
       "      <td>residential_location_Urban</td>\n",
       "      <td>0.012</td>\n",
       "    </tr>\n",
       "  </tbody>\n",
       "</table>\n",
       "</div>"
      ],
      "text/plain": [
       "                           Feature  Mean Absolute SHAP Value\n",
       "1                      smoking_Yes                     0.477\n",
       "3  lung_function_severely_impaired                     0.040\n",
       "2           lung_function_impaired                     0.017\n",
       "0       residential_location_Urban                     0.012"
      ]
     },
     "metadata": {},
     "output_type": "display_data"
    },
    {
     "name": "stderr",
     "output_type": "stream",
     "text": [
      "/var/folders/c8/1z0fkgc168774_b4ld13pjrr0000gp/T/ipykernel_59955/1808494397.py:22: FutureWarning: The NumPy global RNG was seeded by calling `np.random.seed`. In a future version this function will no longer use the global RNG. Pass `rng` explicitly to opt-in to the new behaviour and silence this warning.\n",
      "  shap.summary_plot(shap_values, X, plot_type=\"bar\")\n"
     ]
    },
    {
     "data": {
      "image/png": "[encoded data removed]",
      "text/plain": [
       "<Figure size 800x310 with 1 Axes>"
      ]
     },
     "metadata": {},
     "output_type": "display_data"
    }
   ],
   "source": [
    "X = pd.get_dummies(df.drop(\"lung_cancer_death\", axis=1), drop_first=True)\n",
    "y = df[\"lung_cancer_death\"]\n",
    "\n",
    "xgb_model = xgb.XGBClassifier(random_state=1)\n",
    "xgb_model.fit(X, y)\n",
    "\n",
    "roc_auc = roc_auc_score(y, xgb_model.predict_proba(X)[:, 1])\n",
    "print(f\"ROC AUC: {roc_auc:.2f}\")\n",
    "\n",
    "explainer = shap.TreeExplainer(xgb_model)\n",
    "shap_values = explainer.shap_values(X)\n",
    "\n",
    "# Create a DataFrame summarizing the mean absolute SHAP values per feature\n",
    "mean_abs_shap = np.abs(shap_values).mean(axis=0)\n",
    "shap_summary_df = pd.DataFrame({\n",
    "    \"Feature\": X.columns,\n",
    "    \"Mean Absolute SHAP Value\": mean_abs_shap\n",
    "}).sort_values(\"Mean Absolute SHAP Value\", ascending=False)\n",
    "\n",
    "display(shap_summary_df.round(3))\n",
    "\n",
    "shap.summary_plot(shap_values, X, plot_type=\"bar\")"
   ]
  },
  {
   "cell_type": "code",
   "execution_count": 145,
   "id": "8a0c37c9",
   "metadata": {},
   "outputs": [
    {
     "data": {
      "image/png": "[encoded data removed]",
      "text/plain": [
       "<Figure size 800x310 with 2 Axes>"
      ]
     },
     "metadata": {},
     "output_type": "display_data"
    }
   ],
   "source": [
    "shap.plots.beeswarm(explainer(X))"
   ]
  },
  {
   "cell_type": "markdown",
   "id": "5998531b",
   "metadata": {},
   "source": [
    "# Results"
   ]
  },
  {
   "cell_type": "code",
   "execution_count": 146,
   "id": "ab3e4d3e",
   "metadata": {},
   "outputs": [],
   "source": [
    "full_model_OR.drop(index=['Intercept'], inplace=True)\n",
    "full_model_OR.rename(index={'smoking[T.Yes]': 'smoking', 'lung_function[T.normal]': 'lung_function_imp', 'lung_function[T.impaired]': 'lung_function_imp',\n",
    "                              'lung_function[T.severely_impaired]': 'lung_function_sev_imp', 'residential_location[T.Urban]': 'residential_location'\n",
    "                              }, inplace=True)\n",
    "shap_summary_df = shap_summary_df.set_index('Feature').rename(index=\n",
    "                                                              {'smoking_Yes': 'smoking', 'lung_function_severely_impaired': 'lung_function_sev_imp',\n",
    "                                                               'lung_function_impaired': 'lung_function_imp', 'lung_function_normal': 'lung_function_imp', \n",
    "                                                               'residential_location_Urban': 'residential_location'})\n",
    "\n",
    "results = full_model_OR.merge(true_OR, left_index=True, right_index=True)\\\n",
    "    .merge(manual_OR, left_index=True, right_index=True)\\\n",
    "    .merge(shap_summary_df, left_index=True, right_index=True)"
   ]
  },
  {
   "cell_type": "code",
   "execution_count": 147,
   "id": "47c5ad29",
   "metadata": {},
   "outputs": [
    {
     "data": {
      "text/html": [
       "<div>\n",
       "<style scoped>\n",
       "    .dataframe tbody tr th:only-of-type {\n",
       "        vertical-align: middle;\n",
       "    }\n",
       "\n",
       "    .dataframe tbody tr th {\n",
       "        vertical-align: top;\n",
       "    }\n",
       "\n",
       "    .dataframe thead th {\n",
       "        text-align: right;\n",
       "    }\n",
       "</style>\n",
       "<table border=\"1\" class=\"dataframe\">\n",
       "  <thead>\n",
       "    <tr style=\"text-align: right;\">\n",
       "      <th></th>\n",
       "      <th>full_model_OR</th>\n",
       "      <th>true_OR</th>\n",
       "      <th>manual_OR</th>\n",
       "      <th>Mean Absolute SHAP Value</th>\n",
       "    </tr>\n",
       "  </thead>\n",
       "  <tbody>\n",
       "    <tr>\n",
       "      <th>smoking</th>\n",
       "      <td>3.19</td>\n",
       "      <td>3.42</td>\n",
       "      <td>3.35</td>\n",
       "      <td>0.48</td>\n",
       "    </tr>\n",
       "    <tr>\n",
       "      <th>lung_function_imp</th>\n",
       "      <td>1.09</td>\n",
       "      <td>1.01</td>\n",
       "      <td>0.53</td>\n",
       "      <td>0.02</td>\n",
       "    </tr>\n",
       "    <tr>\n",
       "      <th>lung_function_sev_imp</th>\n",
       "      <td>1.14</td>\n",
       "      <td>0.99</td>\n",
       "      <td>1.15</td>\n",
       "      <td>0.04</td>\n",
       "    </tr>\n",
       "    <tr>\n",
       "      <th>residential_location</th>\n",
       "      <td>1.00</td>\n",
       "      <td>2.62</td>\n",
       "      <td>2.60</td>\n",
       "      <td>0.01</td>\n",
       "    </tr>\n",
       "  </tbody>\n",
       "</table>\n",
       "</div>"
      ],
      "text/plain": [
       "                       full_model_OR  true_OR  manual_OR  \\\n",
       "smoking                         3.19     3.42       3.35   \n",
       "lung_function_imp               1.09     1.01       0.53   \n",
       "lung_function_sev_imp           1.14     0.99       1.15   \n",
       "residential_location            1.00     2.62       2.60   \n",
       "\n",
       "                       Mean Absolute SHAP Value  \n",
       "smoking                                    0.48  \n",
       "lung_function_imp                          0.02  \n",
       "lung_function_sev_imp                      0.04  \n",
       "residential_location                       0.01  "
      ]
     },
     "execution_count": 147,
     "metadata": {},
     "output_type": "execute_result"
    }
   ],
   "source": [
    "results.round(2)"
   ]
  },
  {
   "cell_type": "code",
   "execution_count": 148,
   "id": "cea71982",
   "metadata": {},
   "outputs": [
    {
     "data": {
      "image/png": "[encoded data removed]",
      "text/plain": [
       "<Figure size 800x500 with 1 Axes>"
      ]
     },
     "metadata": {},
     "output_type": "display_data"
    }
   ],
   "source": [
    "plot_col_mask = results.columns.str.endswith('_OR')\n",
    "ax = results.loc[:, plot_col_mask].plot(kind='bar', figsize=(8, 5))\n",
    "ax.set_ylabel(\"Odds Ratio\")\n",
    "ax.set_title(\"Comparison of Different OR Estimates\")\n",
    "\n",
    "plt.legend(title=\"OR Columns\", loc=\"best\")\n",
    "plt.tight_layout()\n",
    "plt.show()"
   ]
  },
  {
   "cell_type": "code",
   "execution_count": 149,
   "id": "b9bd246e",
   "metadata": {},
   "outputs": [
    {
     "data": {
      "image/png": "[encoded data removed]",
      "text/plain": [
       "<Figure size 800x500 with 1 Axes>"
      ]
     },
     "metadata": {},
     "output_type": "display_data"
    }
   ],
   "source": [
    "# Normalize \"true_OR\" so it sums to 1\n",
    "results[\"true_OR_norm\"] = results[\"true_OR\"] / results[\"true_OR\"].sum()\n",
    "\n",
    "# Normalize \"Mean Absolute SHAP Value\" so it sums to 1\n",
    "results[\"mean_abs_shap_norm\"] = (\n",
    "    results[\"Mean Absolute SHAP Value\"] / results[\"Mean Absolute SHAP Value\"].sum()\n",
    ")\n",
    "\n",
    "ax = results[[\"true_OR_norm\", \"mean_abs_shap_norm\"]].plot(kind=\"bar\", figsize=(8, 5))\n",
    "ax.set_ylabel(\"Normalized Value\")\n",
    "ax.set_title(\"Normalized True OR vs. Normalized Mean Absolute SHAP Value\")\n",
    "plt.legend(title=\"Columns\", loc=\"best\")\n",
    "plt.tight_layout()\n",
    "plt.show()"
   ]
  },
  {
   "cell_type": "markdown",
   "id": "2a952235",
   "metadata": {},
   "source": [
    "# TODO\n",
    "\n",
    "* write the outline for the post\n",
    "* prepare the example of things that occur before others as listed below.\n",
    "\n",
    "NOTE: country and account, for example, are always determined before exp, edu, top-category, etc., and so we cannot say (ever) that they do not cause them. i.e., we can't say - residential_location has not effect on years of experience, or the average education, etc.\n",
    "\n",
    "Prepare an intuitive / graphical example of the above.\n",
    "\n",
    "\n",
    "---\n",
    "```\n",
    "dag {\n",
    "bb=\"0,0,1,1\"\n",
    "smokingcation [adjusted,pos=\"0.364,0.242\"]\n",
    "lung_functionerience [adjusted,pos=\"0.416,0.405\"]\n",
    "residential_location [exposure,pos=\"0.237,0.333\"]\n",
    "dism_OQ [outcome,pos=\"0.572,0.341\"]\n",
    "smokingcation -> lung_functionerience\n",
    "smokingcation -> dism_OQ\n",
    "lung_functionerience -> dism_OQ\n",
    "residential_location -> smokingcation\n",
    "residential_location -> lung_functionerience\n",
    "}\n",
    "```"
   ]
  },
  {
   "cell_type": "markdown",
   "id": "df132fc5",
   "metadata": {},
   "source": [
    "# DRAFT"
   ]
  },
  {
   "cell_type": "code",
   "execution_count": 150,
   "id": "831f2c6f",
   "metadata": {},
   "outputs": [
    {
     "data": {
      "text/html": [
       "<div>\n",
       "<style scoped>\n",
       "    .dataframe tbody tr th:only-of-type {\n",
       "        vertical-align: middle;\n",
       "    }\n",
       "\n",
       "    .dataframe tbody tr th {\n",
       "        vertical-align: top;\n",
       "    }\n",
       "\n",
       "    .dataframe thead th {\n",
       "        text-align: right;\n",
       "    }\n",
       "</style>\n",
       "<table border=\"1\" class=\"dataframe\">\n",
       "  <thead>\n",
       "    <tr style=\"text-align: right;\">\n",
       "      <th></th>\n",
       "      <th>full_model_OR</th>\n",
       "    </tr>\n",
       "  </thead>\n",
       "  <tbody>\n",
       "    <tr>\n",
       "      <th>smoking</th>\n",
       "      <td>3.188976</td>\n",
       "    </tr>\n",
       "    <tr>\n",
       "      <th>lung_function_imp</th>\n",
       "      <td>1.085564</td>\n",
       "    </tr>\n",
       "    <tr>\n",
       "      <th>lung_function_sev_imp</th>\n",
       "      <td>1.140424</td>\n",
       "    </tr>\n",
       "    <tr>\n",
       "      <th>residential_location</th>\n",
       "      <td>0.997603</td>\n",
       "    </tr>\n",
       "  </tbody>\n",
       "</table>\n",
       "</div>"
      ],
      "text/plain": [
       "                       full_model_OR\n",
       "smoking                     3.188976\n",
       "lung_function_imp           1.085564\n",
       "lung_function_sev_imp       1.140424\n",
       "residential_location        0.997603"
      ]
     },
     "execution_count": 150,
     "metadata": {},
     "output_type": "execute_result"
    }
   ],
   "source": [
    "full_model_OR"
   ]
  },
  {
   "cell_type": "code",
   "execution_count": 151,
   "id": "fee1dc1e",
   "metadata": {},
   "outputs": [
    {
     "data": {
      "text/html": [
       "<div>\n",
       "<style scoped>\n",
       "    .dataframe tbody tr th:only-of-type {\n",
       "        vertical-align: middle;\n",
       "    }\n",
       "\n",
       "    .dataframe tbody tr th {\n",
       "        vertical-align: top;\n",
       "    }\n",
       "\n",
       "    .dataframe thead th {\n",
       "        text-align: right;\n",
       "    }\n",
       "</style>\n",
       "<table border=\"1\" class=\"dataframe\">\n",
       "  <thead>\n",
       "    <tr style=\"text-align: right;\">\n",
       "      <th></th>\n",
       "      <th>Mean Absolute SHAP Value</th>\n",
       "    </tr>\n",
       "    <tr>\n",
       "      <th>Feature</th>\n",
       "      <th></th>\n",
       "    </tr>\n",
       "  </thead>\n",
       "  <tbody>\n",
       "    <tr>\n",
       "      <th>smoking</th>\n",
       "      <td>0.477242</td>\n",
       "    </tr>\n",
       "    <tr>\n",
       "      <th>lung_function_sev_imp</th>\n",
       "      <td>0.039884</td>\n",
       "    </tr>\n",
       "    <tr>\n",
       "      <th>lung_function_imp</th>\n",
       "      <td>0.017349</td>\n",
       "    </tr>\n",
       "    <tr>\n",
       "      <th>residential_location</th>\n",
       "      <td>0.012070</td>\n",
       "    </tr>\n",
       "  </tbody>\n",
       "</table>\n",
       "</div>"
      ],
      "text/plain": [
       "                       Mean Absolute SHAP Value\n",
       "Feature                                        \n",
       "smoking                                0.477242\n",
       "lung_function_sev_imp                  0.039884\n",
       "lung_function_imp                      0.017349\n",
       "residential_location                   0.012070"
      ]
     },
     "execution_count": 151,
     "metadata": {},
     "output_type": "execute_result"
    }
   ],
   "source": [
    "shap_summary_df"
   ]
  },
  {
   "cell_type": "code",
   "execution_count": 152,
   "id": "3c915b15",
   "metadata": {},
   "outputs": [
    {
     "data": {
      "text/html": [
       "<div>\n",
       "<style scoped>\n",
       "    .dataframe tbody tr th:only-of-type {\n",
       "        vertical-align: middle;\n",
       "    }\n",
       "\n",
       "    .dataframe tbody tr th {\n",
       "        vertical-align: top;\n",
       "    }\n",
       "\n",
       "    .dataframe thead th {\n",
       "        text-align: right;\n",
       "    }\n",
       "</style>\n",
       "<table border=\"1\" class=\"dataframe\">\n",
       "  <thead>\n",
       "    <tr style=\"text-align: right;\">\n",
       "      <th></th>\n",
       "      <th>residential_location_Urban</th>\n",
       "      <th>smoking_Yes</th>\n",
       "      <th>lung_function_impaired</th>\n",
       "      <th>lung_function_severely_impaired</th>\n",
       "    </tr>\n",
       "  </thead>\n",
       "  <tbody>\n",
       "    <tr>\n",
       "      <th>0</th>\n",
       "      <td>True</td>\n",
       "      <td>True</td>\n",
       "      <td>True</td>\n",
       "      <td>False</td>\n",
       "    </tr>\n",
       "    <tr>\n",
       "      <th>1</th>\n",
       "      <td>True</td>\n",
       "      <td>True</td>\n",
       "      <td>False</td>\n",
       "      <td>False</td>\n",
       "    </tr>\n",
       "    <tr>\n",
       "      <th>2</th>\n",
       "      <td>True</td>\n",
       "      <td>True</td>\n",
       "      <td>True</td>\n",
       "      <td>False</td>\n",
       "    </tr>\n",
       "    <tr>\n",
       "      <th>3</th>\n",
       "      <td>False</td>\n",
       "      <td>False</td>\n",
       "      <td>False</td>\n",
       "      <td>True</td>\n",
       "    </tr>\n",
       "    <tr>\n",
       "      <th>4</th>\n",
       "      <td>True</td>\n",
       "      <td>True</td>\n",
       "      <td>False</td>\n",
       "      <td>True</td>\n",
       "    </tr>\n",
       "    <tr>\n",
       "      <th>...</th>\n",
       "      <td>...</td>\n",
       "      <td>...</td>\n",
       "      <td>...</td>\n",
       "      <td>...</td>\n",
       "    </tr>\n",
       "    <tr>\n",
       "      <th>9995</th>\n",
       "      <td>True</td>\n",
       "      <td>True</td>\n",
       "      <td>True</td>\n",
       "      <td>False</td>\n",
       "    </tr>\n",
       "    <tr>\n",
       "      <th>9996</th>\n",
       "      <td>True</td>\n",
       "      <td>True</td>\n",
       "      <td>False</td>\n",
       "      <td>True</td>\n",
       "    </tr>\n",
       "    <tr>\n",
       "      <th>9997</th>\n",
       "      <td>True</td>\n",
       "      <td>True</td>\n",
       "      <td>False</td>\n",
       "      <td>True</td>\n",
       "    </tr>\n",
       "    <tr>\n",
       "      <th>9998</th>\n",
       "      <td>True</td>\n",
       "      <td>True</td>\n",
       "      <td>True</td>\n",
       "      <td>False</td>\n",
       "    </tr>\n",
       "    <tr>\n",
       "      <th>9999</th>\n",
       "      <td>True</td>\n",
       "      <td>True</td>\n",
       "      <td>False</td>\n",
       "      <td>True</td>\n",
       "    </tr>\n",
       "  </tbody>\n",
       "</table>\n",
       "<p>10000 rows × 4 columns</p>\n",
       "</div>"
      ],
      "text/plain": [
       "      residential_location_Urban  smoking_Yes  lung_function_impaired  \\\n",
       "0                           True         True                    True   \n",
       "1                           True         True                   False   \n",
       "2                           True         True                    True   \n",
       "3                          False        False                   False   \n",
       "4                           True         True                   False   \n",
       "...                          ...          ...                     ...   \n",
       "9995                        True         True                    True   \n",
       "9996                        True         True                   False   \n",
       "9997                        True         True                   False   \n",
       "9998                        True         True                    True   \n",
       "9999                        True         True                   False   \n",
       "\n",
       "      lung_function_severely_impaired  \n",
       "0                               False  \n",
       "1                               False  \n",
       "2                               False  \n",
       "3                                True  \n",
       "4                                True  \n",
       "...                               ...  \n",
       "9995                            False  \n",
       "9996                             True  \n",
       "9997                             True  \n",
       "9998                            False  \n",
       "9999                             True  \n",
       "\n",
       "[10000 rows x 4 columns]"
      ]
     },
     "execution_count": 152,
     "metadata": {},
     "output_type": "execute_result"
    }
   ],
   "source": [
    "X"
   ]
  },
  {
   "cell_type": "code",
   "execution_count": 153,
   "id": "aa167b27",
   "metadata": {},
   "outputs": [
    {
     "data": {
      "text/html": [
       "<div>\n",
       "<style scoped>\n",
       "    .dataframe tbody tr th:only-of-type {\n",
       "        vertical-align: middle;\n",
       "    }\n",
       "\n",
       "    .dataframe tbody tr th {\n",
       "        vertical-align: top;\n",
       "    }\n",
       "\n",
       "    .dataframe thead th {\n",
       "        text-align: right;\n",
       "    }\n",
       "</style>\n",
       "<table border=\"1\" class=\"dataframe\">\n",
       "  <thead>\n",
       "    <tr style=\"text-align: right;\">\n",
       "      <th></th>\n",
       "      <th>lung_cancer_death</th>\n",
       "      <th>residential_location</th>\n",
       "      <th>smoking</th>\n",
       "      <th>lung_function</th>\n",
       "    </tr>\n",
       "  </thead>\n",
       "  <tbody>\n",
       "    <tr>\n",
       "      <th>0</th>\n",
       "      <td>1</td>\n",
       "      <td>Urban</td>\n",
       "      <td>Yes</td>\n",
       "      <td>impaired</td>\n",
       "    </tr>\n",
       "    <tr>\n",
       "      <th>1</th>\n",
       "      <td>0</td>\n",
       "      <td>Urban</td>\n",
       "      <td>Yes</td>\n",
       "      <td>normal</td>\n",
       "    </tr>\n",
       "    <tr>\n",
       "      <th>2</th>\n",
       "      <td>1</td>\n",
       "      <td>Urban</td>\n",
       "      <td>Yes</td>\n",
       "      <td>impaired</td>\n",
       "    </tr>\n",
       "    <tr>\n",
       "      <th>3</th>\n",
       "      <td>1</td>\n",
       "      <td>Rural</td>\n",
       "      <td>No</td>\n",
       "      <td>severely_impaired</td>\n",
       "    </tr>\n",
       "    <tr>\n",
       "      <th>4</th>\n",
       "      <td>1</td>\n",
       "      <td>Urban</td>\n",
       "      <td>Yes</td>\n",
       "      <td>severely_impaired</td>\n",
       "    </tr>\n",
       "    <tr>\n",
       "      <th>...</th>\n",
       "      <td>...</td>\n",
       "      <td>...</td>\n",
       "      <td>...</td>\n",
       "      <td>...</td>\n",
       "    </tr>\n",
       "    <tr>\n",
       "      <th>9995</th>\n",
       "      <td>1</td>\n",
       "      <td>Urban</td>\n",
       "      <td>Yes</td>\n",
       "      <td>impaired</td>\n",
       "    </tr>\n",
       "    <tr>\n",
       "      <th>9996</th>\n",
       "      <td>1</td>\n",
       "      <td>Urban</td>\n",
       "      <td>Yes</td>\n",
       "      <td>severely_impaired</td>\n",
       "    </tr>\n",
       "    <tr>\n",
       "      <th>9997</th>\n",
       "      <td>0</td>\n",
       "      <td>Urban</td>\n",
       "      <td>Yes</td>\n",
       "      <td>severely_impaired</td>\n",
       "    </tr>\n",
       "    <tr>\n",
       "      <th>9998</th>\n",
       "      <td>1</td>\n",
       "      <td>Urban</td>\n",
       "      <td>Yes</td>\n",
       "      <td>impaired</td>\n",
       "    </tr>\n",
       "    <tr>\n",
       "      <th>9999</th>\n",
       "      <td>1</td>\n",
       "      <td>Urban</td>\n",
       "      <td>Yes</td>\n",
       "      <td>severely_impaired</td>\n",
       "    </tr>\n",
       "  </tbody>\n",
       "</table>\n",
       "<p>10000 rows × 4 columns</p>\n",
       "</div>"
      ],
      "text/plain": [
       "      lung_cancer_death residential_location smoking      lung_function\n",
       "0                     1                Urban     Yes           impaired\n",
       "1                     0                Urban     Yes             normal\n",
       "2                     1                Urban     Yes           impaired\n",
       "3                     1                Rural      No  severely_impaired\n",
       "4                     1                Urban     Yes  severely_impaired\n",
       "...                 ...                  ...     ...                ...\n",
       "9995                  1                Urban     Yes           impaired\n",
       "9996                  1                Urban     Yes  severely_impaired\n",
       "9997                  0                Urban     Yes  severely_impaired\n",
       "9998                  1                Urban     Yes           impaired\n",
       "9999                  1                Urban     Yes  severely_impaired\n",
       "\n",
       "[10000 rows x 4 columns]"
      ]
     },
     "execution_count": 153,
     "metadata": {},
     "output_type": "execute_result"
    }
   ],
   "source": [
    "df"
   ]
  },
  {
   "cell_type": "code",
   "execution_count": null,
   "id": "10813f3e",
   "metadata": {},
   "outputs": [],
   "source": []
  }
 ],
 "metadata": {
  "kernelspec": {
   "display_name": "ron_exp_3.10",
   "language": "python",
   "name": "ron_exp_3.10"
  },
  "language_info": {
   "codemirror_mode": {
    "name": "ipython",
    "version": 3
   },
   "file_extension": ".py",
   "mimetype": "text/x-python",
   "name": "python",
   "nbconvert_exporter": "python",
   "pygments_lexer": "ipython3",
   "version": "3.10.10"
  }
 },
 "nbformat": 4,
 "nbformat_minor": 5
}
