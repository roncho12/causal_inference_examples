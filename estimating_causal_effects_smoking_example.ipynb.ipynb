{
 "cells": [
  {
   "cell_type": "code",
   "execution_count": 30,
   "id": "138ed661",
   "metadata": {},
   "outputs": [],
   "source": [
    "import graphviz\n",
    "import logging\n",
    "import matplotlib.pyplot as plt\n",
    "import numpy as np\n",
    "import pandas as pd\n",
    "import shap\n",
    "import statsmodels.api as sm\n",
    "import statsmodels.formula.api as smf\n",
    "import xgboost as xgb\n",
    "from io import StringIO\n",
    "from pgmpy.factors.discrete import TabularCPD\n",
    "from pgmpy.models import BayesianNetwork\n",
    "from scipy.stats import chi2_contingency\n",
    "from sklearn.metrics import roc_auc_score\n",
    "\n",
    "\n",
    "np.random.seed(100)\n",
    "\n",
    "# Only for the sake of cleaner output in this example\n",
    "logging.getLogger(\"pgmpy\").setLevel(logging.ERROR)  "
   ]
  },
  {
   "cell_type": "markdown",
   "id": "3cc3e02f",
   "metadata": {},
   "source": [
    "# Functions"
   ]
  },
  {
   "cell_type": "code",
   "execution_count": 31,
   "id": "0389552c",
   "metadata": {},
   "outputs": [],
   "source": [
    "def get_OR_for_treatment(df_a, df_b, outcome_col='lung_cancer_death'):\n",
    "    # Calculates the odds ratio given an outcome column, for the case where all of the\n",
    "    # data in df_a is of the treated group and all of the data in df_b is the untreated group.\n",
    "    a = df_a[outcome_col].sum()\n",
    "    b = len(df_a) - a\n",
    "\n",
    "    c = df_b[outcome_col].sum()\n",
    "    d = len(df_b) - c\n",
    "\n",
    "    OR = (a / b) / (c / d)\n",
    "\n",
    "    return OR\n",
    "\n",
    "\n",
    "def get_coef_from_statmodels_model(model, coef_name=None):\n",
    "    # A convenience function to get the coefficients from a fitted statsmodels model.\n",
    "    summary_coefs = pd.read_html(StringIO(model.summary().tables[1].as_html()), header=0, index_col=0)[0]['coef']\n",
    "    return summary_coefs.to_frame() if coef_name is None else summary_coefs[coef_name]"
   ]
  },
  {
   "cell_type": "markdown",
   "id": "e6d20f61",
   "metadata": {},
   "source": [
    "# Define the Conditional Probability Distributions (CPDs)"
   ]
  },
  {
   "cell_type": "code",
   "execution_count": 32,
   "id": "b57b697d",
   "metadata": {},
   "outputs": [],
   "source": [
    "# Define the conditional probability distribution for residential location\n",
    "cpd_residential_location = TabularCPD(\n",
    "    variable='residential_location',\n",
    "    variable_card=2,\n",
    "    values=[[0.8], [0.2]],\n",
    "    state_names={'residential_location': ['Urban', 'Rural']}\n",
    ").normalize(inplace=False)\n",
    "\n",
    "# Define the conditional probability distribution for smoking, \n",
    "# depending on residential location\n",
    "cpd_smoking = TabularCPD(\n",
    "    variable='smoking',\n",
    "    variable_card=2,\n",
    "    values=[\n",
    "        [0.1, 0.9],\n",
    "        [0.9, 0.1]\n",
    "    ],\n",
    "    evidence=['residential_location'],\n",
    "    evidence_card=[2],\n",
    "    state_names={\n",
    "        'smoking': ['No', 'Yes'],\n",
    "        'residential_location': ['Urban', 'Rural']\n",
    "    }\n",
    ").normalize(inplace=False)\n",
    "\n",
    "# Define the conditional probability distribution for lung function,\n",
    "# depending on smoking and residential location\n",
    "cpd_lung_function = TabularCPD(\n",
    "    variable='lung_function',\n",
    "    variable_card=3,\n",
    "    values=[\n",
    "        [0.3, 0.3, 0.5, 0.4],\n",
    "        [0.5, 0.6, 0.1, 0.1],\n",
    "        [0.2, 0.2, 0.6, 0.4]\n",
    "    ],\n",
    "    evidence=['smoking', 'residential_location'],\n",
    "    evidence_card=[2, 2],\n",
    "    state_names={\n",
    "        'lung_function': ['impaired', 'normal', 'severely_impaired'],\n",
    "        'smoking': ['No', 'Yes'],\n",
    "        'residential_location': ['Urban', 'Rural']\n",
    "    }\n",
    ").normalize(inplace=False)\n",
    "\n",
    "# Define the conditional probability distribution for lung cancer death,\n",
    "# depending on smoking and lung function\n",
    "cpd_lung_cancer_death = TabularCPD(\n",
    "    variable='lung_cancer_death',\n",
    "    variable_card=2,\n",
    "    values=[\n",
    "        [0.5, 0.5, 0.5, 0.2, 0.2, 0.2],\n",
    "        [0.5, 0.5, 0.5, 0.7, 0.7, 0.7]\n",
    "    ],\n",
    "    evidence=['smoking', 'lung_function'],\n",
    "    evidence_card=[2, 3],\n",
    "    state_names={\n",
    "        'smoking': ['No', 'Yes'],\n",
    "        'lung_function': ['impaired', 'normal', 'severely_impaired'],\n",
    "        'lung_cancer_death': [0, 1]\n",
    "    }\n",
    ").normalize(inplace=False)"
   ]
  },
  {
   "cell_type": "code",
   "execution_count": 33,
   "id": "2940423b",
   "metadata": {},
   "outputs": [],
   "source": [
    "# Create a Bayesian Network which will be the DAG we will work with\n",
    "model = BayesianNetwork([\n",
    "    ('residential_location', 'smoking'),\n",
    "    ('residential_location', 'lung_function'),\n",
    "    ('smoking', 'lung_function'),\n",
    "    ('smoking', 'lung_cancer_death'),\n",
    "    ('lung_function', 'lung_cancer_death')\n",
    "    ])\n",
    "\n",
    "# Add the CPDs to the model.\n",
    "# The CPDs are the conditional probability distribution tables previously defined, that \n",
    "# determine the probabilities of each node\n",
    "model.add_cpds(\n",
    "    cpd_residential_location, \n",
    "    cpd_smoking, \n",
    "    cpd_lung_function, \n",
    "    cpd_lung_cancer_death\n",
    "    )"
   ]
  },
  {
   "cell_type": "code",
   "execution_count": 34,
   "id": "819335c9",
   "metadata": {},
   "outputs": [
    {
     "data": {
      "image/svg+xml": [
       "<?xml version=\"1.0\" encoding=\"UTF-8\" standalone=\"no\"?>\n",
       "<!DOCTYPE svg PUBLIC \"-//W3C//DTD SVG 1.1//EN\"\n",
       " \"http://www.w3.org/Graphics/SVG/1.1/DTD/svg11.dtd\">\n",
       "<!-- Generated by graphviz version 12.2.1 (20241206.2353)\n",
       " -->\n",
       "<!-- Pages: 1 -->\n",
       "<svg width=\"512pt\" height=\"260pt\"\n",
       " viewBox=\"0.00 0.00 512.00 260.00\" xmlns=\"http://www.w3.org/2000/svg\" xmlns:xlink=\"http://www.w3.org/1999/xlink\">\n",
       "<g id=\"graph0\" class=\"graph\" transform=\"scale(1 1) rotate(0) translate(4 256)\">\n",
       "<polygon fill=\"white\" stroke=\"none\" points=\"-4,4 -4,-256 508,-256 508,4 -4,4\"/>\n",
       "<!-- residential_location -->\n",
       "<g id=\"node1\" class=\"node\">\n",
       "<title>residential_location</title>\n",
       "<ellipse fill=\"none\" stroke=\"black\" cx=\"261.05\" cy=\"-234\" rx=\"83.6\" ry=\"18\"/>\n",
       "<text text-anchor=\"middle\" x=\"261.05\" y=\"-228.95\" font-family=\"Times,serif\" font-size=\"14.00\">residential_location</text>\n",
       "</g>\n",
       "<!-- smoking -->\n",
       "<g id=\"node2\" class=\"node\">\n",
       "<title>smoking</title>\n",
       "<ellipse fill=\"none\" stroke=\"black\" cx=\"358.05\" cy=\"-162\" rx=\"43.16\" ry=\"18\"/>\n",
       "<text text-anchor=\"middle\" x=\"358.05\" y=\"-156.95\" font-family=\"Times,serif\" font-size=\"14.00\">smoking</text>\n",
       "</g>\n",
       "<!-- residential_location&#45;&gt;smoking -->\n",
       "<g id=\"edge1\" class=\"edge\">\n",
       "<title>residential_location&#45;&gt;smoking</title>\n",
       "<path fill=\"none\" stroke=\"black\" d=\"M284.04,-216.41C297.15,-206.95 313.73,-194.98 327.88,-184.77\"/>\n",
       "<polygon fill=\"black\" stroke=\"black\" points=\"329.92,-187.61 335.99,-178.92 325.83,-181.94 329.92,-187.61\"/>\n",
       "</g>\n",
       "<!-- lung_function -->\n",
       "<g id=\"node3\" class=\"node\">\n",
       "<title>lung_function</title>\n",
       "<ellipse fill=\"none\" stroke=\"black\" cx=\"168.05\" cy=\"-90\" rx=\"62.61\" ry=\"18\"/>\n",
       "<text text-anchor=\"middle\" x=\"168.05\" y=\"-84.95\" font-family=\"Times,serif\" font-size=\"14.00\">lung_function</text>\n",
       "</g>\n",
       "<!-- residential_location&#45;&gt;lung_function -->\n",
       "<g id=\"edge2\" class=\"edge\">\n",
       "<title>residential_location&#45;&gt;lung_function</title>\n",
       "<path fill=\"none\" stroke=\"black\" d=\"M249.83,-215.87C233.84,-191.46 204.35,-146.43 185.5,-117.64\"/>\n",
       "<polygon fill=\"black\" stroke=\"black\" points=\"188.55,-115.9 180.14,-109.46 182.69,-119.74 188.55,-115.9\"/>\n",
       "</g>\n",
       "<!-- smoking&#45;&gt;lung_function -->\n",
       "<g id=\"edge3\" class=\"edge\">\n",
       "<title>smoking&#45;&gt;lung_function</title>\n",
       "<path fill=\"none\" stroke=\"black\" d=\"M326.68,-149.44C296.49,-138.32 250.45,-121.36 215.73,-108.57\"/>\n",
       "<polygon fill=\"black\" stroke=\"black\" points=\"217.36,-105.44 206.77,-105.26 214.94,-112.01 217.36,-105.44\"/>\n",
       "</g>\n",
       "<!-- lung_cancer_death -->\n",
       "<g id=\"node4\" class=\"node\">\n",
       "<title>lung_cancer_death</title>\n",
       "<ellipse fill=\"none\" stroke=\"black\" cx=\"288.05\" cy=\"-18\" rx=\"80.52\" ry=\"18\"/>\n",
       "<text text-anchor=\"middle\" x=\"288.05\" y=\"-12.95\" font-family=\"Times,serif\" font-size=\"14.00\">lung_cancer_death</text>\n",
       "</g>\n",
       "<!-- smoking&#45;&gt;lung_cancer_death -->\n",
       "<g id=\"edge4\" class=\"edge\">\n",
       "<title>smoking&#45;&gt;lung_cancer_death</title>\n",
       "<path fill=\"none\" stroke=\"black\" d=\"M349.61,-143.87C337.68,-119.67 315.76,-75.21 301.56,-46.39\"/>\n",
       "<polygon fill=\"black\" stroke=\"black\" points=\"304.76,-44.97 297.19,-37.55 298.48,-48.06 304.76,-44.97\"/>\n",
       "</g>\n",
       "<!-- lung_function&#45;&gt;lung_cancer_death -->\n",
       "<g id=\"edge5\" class=\"edge\">\n",
       "<title>lung_function&#45;&gt;lung_cancer_death</title>\n",
       "<path fill=\"none\" stroke=\"black\" d=\"M194.98,-73.29C211.35,-63.74 232.49,-51.41 250.48,-40.92\"/>\n",
       "<polygon fill=\"black\" stroke=\"black\" points=\"252.2,-43.97 259.07,-35.91 248.67,-37.92 252.2,-43.97\"/>\n",
       "</g>\n",
       "</g>\n",
       "</svg>\n"
      ],
      "text/plain": [
       "<graphviz.sources.Source at 0x34f373e80>"
      ]
     },
     "execution_count": 34,
     "metadata": {},
     "output_type": "execute_result"
    }
   ],
   "source": [
    "# Plot our DAG to make sure it looks as intended\n",
    "dot = model.to_graphviz()\n",
    "dot.graph_attr.update(ratio=0.5)\n",
    "graphviz.Source(dot.to_string())"
   ]
  },
  {
   "cell_type": "code",
   "execution_count": 35,
   "id": "7fbb1ebc",
   "metadata": {},
   "outputs": [
    {
     "data": {
      "text/html": [
       "<div>\n",
       "<style scoped>\n",
       "    .dataframe tbody tr th:only-of-type {\n",
       "        vertical-align: middle;\n",
       "    }\n",
       "\n",
       "    .dataframe tbody tr th {\n",
       "        vertical-align: top;\n",
       "    }\n",
       "\n",
       "    .dataframe thead th {\n",
       "        text-align: right;\n",
       "    }\n",
       "</style>\n",
       "<table border=\"1\" class=\"dataframe\">\n",
       "  <thead>\n",
       "    <tr style=\"text-align: right;\">\n",
       "      <th></th>\n",
       "      <th>residential_location</th>\n",
       "      <th>lung_function</th>\n",
       "      <th>lung_cancer_death</th>\n",
       "      <th>smoking</th>\n",
       "    </tr>\n",
       "  </thead>\n",
       "  <tbody>\n",
       "    <tr>\n",
       "      <th>3467</th>\n",
       "      <td>Rural</td>\n",
       "      <td>normal</td>\n",
       "      <td>0</td>\n",
       "      <td>No</td>\n",
       "    </tr>\n",
       "    <tr>\n",
       "      <th>167</th>\n",
       "      <td>Urban</td>\n",
       "      <td>impaired</td>\n",
       "      <td>0</td>\n",
       "      <td>No</td>\n",
       "    </tr>\n",
       "    <tr>\n",
       "      <th>9746</th>\n",
       "      <td>Urban</td>\n",
       "      <td>severely_impaired</td>\n",
       "      <td>1</td>\n",
       "      <td>Yes</td>\n",
       "    </tr>\n",
       "    <tr>\n",
       "      <th>7090</th>\n",
       "      <td>Urban</td>\n",
       "      <td>impaired</td>\n",
       "      <td>0</td>\n",
       "      <td>No</td>\n",
       "    </tr>\n",
       "    <tr>\n",
       "      <th>1064</th>\n",
       "      <td>Urban</td>\n",
       "      <td>normal</td>\n",
       "      <td>0</td>\n",
       "      <td>Yes</td>\n",
       "    </tr>\n",
       "    <tr>\n",
       "      <th>7768</th>\n",
       "      <td>Urban</td>\n",
       "      <td>impaired</td>\n",
       "      <td>0</td>\n",
       "      <td>Yes</td>\n",
       "    </tr>\n",
       "    <tr>\n",
       "      <th>2539</th>\n",
       "      <td>Urban</td>\n",
       "      <td>impaired</td>\n",
       "      <td>1</td>\n",
       "      <td>Yes</td>\n",
       "    </tr>\n",
       "    <tr>\n",
       "      <th>6431</th>\n",
       "      <td>Urban</td>\n",
       "      <td>impaired</td>\n",
       "      <td>1</td>\n",
       "      <td>Yes</td>\n",
       "    </tr>\n",
       "    <tr>\n",
       "      <th>2960</th>\n",
       "      <td>Urban</td>\n",
       "      <td>severely_impaired</td>\n",
       "      <td>0</td>\n",
       "      <td>No</td>\n",
       "    </tr>\n",
       "    <tr>\n",
       "      <th>8831</th>\n",
       "      <td>Urban</td>\n",
       "      <td>severely_impaired</td>\n",
       "      <td>1</td>\n",
       "      <td>Yes</td>\n",
       "    </tr>\n",
       "  </tbody>\n",
       "</table>\n",
       "</div>"
      ],
      "text/plain": [
       "     residential_location      lung_function  lung_cancer_death smoking\n",
       "3467                Rural             normal                  0      No\n",
       "167                 Urban           impaired                  0      No\n",
       "9746                Urban  severely_impaired                  1     Yes\n",
       "7090                Urban           impaired                  0      No\n",
       "1064                Urban             normal                  0     Yes\n",
       "7768                Urban           impaired                  0     Yes\n",
       "2539                Urban           impaired                  1     Yes\n",
       "6431                Urban           impaired                  1     Yes\n",
       "2960                Urban  severely_impaired                  0      No\n",
       "8831                Urban  severely_impaired                  1     Yes"
      ]
     },
     "execution_count": 35,
     "metadata": {},
     "output_type": "execute_result"
    }
   ],
   "source": [
    "N = 10_000\n",
    "\n",
    "# Generate N observations from the model, based on the provided CPDs and the DAG\n",
    "df = model.simulate(n_samples=N, show_progress=False)\n",
    "df.sample(10)"
   ]
  },
  {
   "cell_type": "code",
   "execution_count": 36,
   "id": "015062ff",
   "metadata": {},
   "outputs": [],
   "source": [
    "# Ensure lung function is categorical.\n",
    "df['lung_function'] = df['lung_function'].astype('category')\n",
    "\n",
    "# set an explicit reference category, as we want the \"normal\" level of \n",
    "# lung function to be the reference level in the analysis\n",
    "df['lung_function'] = pd.Categorical(\n",
    "    df['lung_function'],\n",
    "    categories=['normal', 'impaired', 'severely_impaired'],\n",
    "    ordered=False\n",
    ")"
   ]
  },
  {
   "cell_type": "markdown",
   "id": "de156a33",
   "metadata": {},
   "source": [
    "## CPD sanity checks"
   ]
  },
  {
   "cell_type": "code",
   "execution_count": 37,
   "id": "2d65613c",
   "metadata": {},
   "outputs": [
    {
     "data": {
      "text/html": [
       "<div>\n",
       "<style scoped>\n",
       "    .dataframe tbody tr th:only-of-type {\n",
       "        vertical-align: middle;\n",
       "    }\n",
       "\n",
       "    .dataframe tbody tr th {\n",
       "        vertical-align: top;\n",
       "    }\n",
       "\n",
       "    .dataframe thead th {\n",
       "        text-align: right;\n",
       "    }\n",
       "</style>\n",
       "<table border=\"1\" class=\"dataframe\">\n",
       "  <thead>\n",
       "    <tr style=\"text-align: right;\">\n",
       "      <th></th>\n",
       "      <th>proportion</th>\n",
       "    </tr>\n",
       "    <tr>\n",
       "      <th>residential_location</th>\n",
       "      <th></th>\n",
       "    </tr>\n",
       "  </thead>\n",
       "  <tbody>\n",
       "    <tr>\n",
       "      <th>Urban</th>\n",
       "      <td>0.8</td>\n",
       "    </tr>\n",
       "    <tr>\n",
       "      <th>Rural</th>\n",
       "      <td>0.2</td>\n",
       "    </tr>\n",
       "  </tbody>\n",
       "</table>\n",
       "</div>"
      ],
      "text/plain": [
       "                      proportion\n",
       "residential_location            \n",
       "Urban                        0.8\n",
       "Rural                        0.2"
      ]
     },
     "execution_count": 37,
     "metadata": {},
     "output_type": "execute_result"
    }
   ],
   "source": [
    "df['residential_location'].value_counts(normalize=True).to_frame().round(2)"
   ]
  },
  {
   "cell_type": "code",
   "execution_count": 38,
   "id": "30a6b73b",
   "metadata": {},
   "outputs": [
    {
     "data": {
      "text/html": [
       "<div>\n",
       "<style scoped>\n",
       "    .dataframe tbody tr th:only-of-type {\n",
       "        vertical-align: middle;\n",
       "    }\n",
       "\n",
       "    .dataframe tbody tr th {\n",
       "        vertical-align: top;\n",
       "    }\n",
       "\n",
       "    .dataframe thead th {\n",
       "        text-align: right;\n",
       "    }\n",
       "</style>\n",
       "<table border=\"1\" class=\"dataframe\">\n",
       "  <thead>\n",
       "    <tr style=\"text-align: right;\">\n",
       "      <th></th>\n",
       "      <th></th>\n",
       "      <th>proportion</th>\n",
       "    </tr>\n",
       "    <tr>\n",
       "      <th>residential_location</th>\n",
       "      <th>smoking</th>\n",
       "      <th></th>\n",
       "    </tr>\n",
       "  </thead>\n",
       "  <tbody>\n",
       "    <tr>\n",
       "      <th rowspan=\"2\" valign=\"top\">Rural</th>\n",
       "      <th>No</th>\n",
       "      <td>0.9</td>\n",
       "    </tr>\n",
       "    <tr>\n",
       "      <th>Yes</th>\n",
       "      <td>0.1</td>\n",
       "    </tr>\n",
       "    <tr>\n",
       "      <th rowspan=\"2\" valign=\"top\">Urban</th>\n",
       "      <th>No</th>\n",
       "      <td>0.1</td>\n",
       "    </tr>\n",
       "    <tr>\n",
       "      <th>Yes</th>\n",
       "      <td>0.9</td>\n",
       "    </tr>\n",
       "  </tbody>\n",
       "</table>\n",
       "</div>"
      ],
      "text/plain": [
       "                              proportion\n",
       "residential_location smoking            \n",
       "Rural                No              0.9\n",
       "                     Yes             0.1\n",
       "Urban                No              0.1\n",
       "                     Yes             0.9"
      ]
     },
     "execution_count": 38,
     "metadata": {},
     "output_type": "execute_result"
    }
   ],
   "source": [
    "df.groupby('residential_location')['smoking'].value_counts(normalize=True).to_frame().round(2).sort_index()"
   ]
  },
  {
   "cell_type": "code",
   "execution_count": 39,
   "id": "14096a64",
   "metadata": {},
   "outputs": [
    {
     "data": {
      "text/html": [
       "<div>\n",
       "<style scoped>\n",
       "    .dataframe tbody tr th:only-of-type {\n",
       "        vertical-align: middle;\n",
       "    }\n",
       "\n",
       "    .dataframe tbody tr th {\n",
       "        vertical-align: top;\n",
       "    }\n",
       "\n",
       "    .dataframe thead th {\n",
       "        text-align: right;\n",
       "    }\n",
       "</style>\n",
       "<table border=\"1\" class=\"dataframe\">\n",
       "  <thead>\n",
       "    <tr style=\"text-align: right;\">\n",
       "      <th></th>\n",
       "      <th></th>\n",
       "      <th></th>\n",
       "      <th>proportion</th>\n",
       "    </tr>\n",
       "    <tr>\n",
       "      <th>residential_location</th>\n",
       "      <th>smoking</th>\n",
       "      <th>lung_function</th>\n",
       "      <th></th>\n",
       "    </tr>\n",
       "  </thead>\n",
       "  <tbody>\n",
       "    <tr>\n",
       "      <th rowspan=\"6\" valign=\"top\">Rural</th>\n",
       "      <th rowspan=\"3\" valign=\"top\">No</th>\n",
       "      <th>normal</th>\n",
       "      <td>0.55</td>\n",
       "    </tr>\n",
       "    <tr>\n",
       "      <th>impaired</th>\n",
       "      <td>0.27</td>\n",
       "    </tr>\n",
       "    <tr>\n",
       "      <th>severely_impaired</th>\n",
       "      <td>0.18</td>\n",
       "    </tr>\n",
       "    <tr>\n",
       "      <th rowspan=\"3\" valign=\"top\">Yes</th>\n",
       "      <th>normal</th>\n",
       "      <td>0.13</td>\n",
       "    </tr>\n",
       "    <tr>\n",
       "      <th>impaired</th>\n",
       "      <td>0.37</td>\n",
       "    </tr>\n",
       "    <tr>\n",
       "      <th>severely_impaired</th>\n",
       "      <td>0.50</td>\n",
       "    </tr>\n",
       "    <tr>\n",
       "      <th rowspan=\"6\" valign=\"top\">Urban</th>\n",
       "      <th rowspan=\"3\" valign=\"top\">No</th>\n",
       "      <th>normal</th>\n",
       "      <td>0.46</td>\n",
       "    </tr>\n",
       "    <tr>\n",
       "      <th>impaired</th>\n",
       "      <td>0.30</td>\n",
       "    </tr>\n",
       "    <tr>\n",
       "      <th>severely_impaired</th>\n",
       "      <td>0.24</td>\n",
       "    </tr>\n",
       "    <tr>\n",
       "      <th rowspan=\"3\" valign=\"top\">Yes</th>\n",
       "      <th>normal</th>\n",
       "      <td>0.09</td>\n",
       "    </tr>\n",
       "    <tr>\n",
       "      <th>impaired</th>\n",
       "      <td>0.42</td>\n",
       "    </tr>\n",
       "    <tr>\n",
       "      <th>severely_impaired</th>\n",
       "      <td>0.49</td>\n",
       "    </tr>\n",
       "  </tbody>\n",
       "</table>\n",
       "</div>"
      ],
      "text/plain": [
       "                                                proportion\n",
       "residential_location smoking lung_function                \n",
       "Rural                No      normal                   0.55\n",
       "                             impaired                 0.27\n",
       "                             severely_impaired        0.18\n",
       "                     Yes     normal                   0.13\n",
       "                             impaired                 0.37\n",
       "                             severely_impaired        0.50\n",
       "Urban                No      normal                   0.46\n",
       "                             impaired                 0.30\n",
       "                             severely_impaired        0.24\n",
       "                     Yes     normal                   0.09\n",
       "                             impaired                 0.42\n",
       "                             severely_impaired        0.49"
      ]
     },
     "execution_count": 39,
     "metadata": {},
     "output_type": "execute_result"
    }
   ],
   "source": [
    "df.groupby(['residential_location', 'smoking'])['lung_function'].value_counts(normalize=True).to_frame().round(2).sort_index()"
   ]
  },
  {
   "cell_type": "code",
   "execution_count": 40,
   "id": "431f1d6a",
   "metadata": {},
   "outputs": [
    {
     "data": {
      "text/html": [
       "<div>\n",
       "<style scoped>\n",
       "    .dataframe tbody tr th:only-of-type {\n",
       "        vertical-align: middle;\n",
       "    }\n",
       "\n",
       "    .dataframe tbody tr th {\n",
       "        vertical-align: top;\n",
       "    }\n",
       "\n",
       "    .dataframe thead th {\n",
       "        text-align: right;\n",
       "    }\n",
       "</style>\n",
       "<table border=\"1\" class=\"dataframe\">\n",
       "  <thead>\n",
       "    <tr style=\"text-align: right;\">\n",
       "      <th></th>\n",
       "      <th></th>\n",
       "      <th>proportion</th>\n",
       "    </tr>\n",
       "    <tr>\n",
       "      <th>lung_function</th>\n",
       "      <th>lung_cancer_death</th>\n",
       "      <th></th>\n",
       "    </tr>\n",
       "  </thead>\n",
       "  <tbody>\n",
       "    <tr>\n",
       "      <th rowspan=\"2\" valign=\"top\">normal</th>\n",
       "      <th>0</th>\n",
       "      <td>0.43</td>\n",
       "    </tr>\n",
       "    <tr>\n",
       "      <th>1</th>\n",
       "      <td>0.57</td>\n",
       "    </tr>\n",
       "    <tr>\n",
       "      <th rowspan=\"2\" valign=\"top\">impaired</th>\n",
       "      <th>0</th>\n",
       "      <td>0.29</td>\n",
       "    </tr>\n",
       "    <tr>\n",
       "      <th>1</th>\n",
       "      <td>0.71</td>\n",
       "    </tr>\n",
       "    <tr>\n",
       "      <th rowspan=\"2\" valign=\"top\">severely_impaired</th>\n",
       "      <th>0</th>\n",
       "      <td>0.26</td>\n",
       "    </tr>\n",
       "    <tr>\n",
       "      <th>1</th>\n",
       "      <td>0.74</td>\n",
       "    </tr>\n",
       "  </tbody>\n",
       "</table>\n",
       "</div>"
      ],
      "text/plain": [
       "                                     proportion\n",
       "lung_function     lung_cancer_death            \n",
       "normal            0                        0.43\n",
       "                  1                        0.57\n",
       "impaired          0                        0.29\n",
       "                  1                        0.71\n",
       "severely_impaired 0                        0.26\n",
       "                  1                        0.74"
      ]
     },
     "execution_count": 40,
     "metadata": {},
     "output_type": "execute_result"
    }
   ],
   "source": [
    "df.groupby('lung_function', observed=False)['lung_cancer_death'].value_counts(normalize=True).to_frame().round(2).sort_index()"
   ]
  },
  {
   "cell_type": "markdown",
   "id": "dcb9e143",
   "metadata": {},
   "source": [
    "# Fit a Model With All Covariates"
   ]
  },
  {
   "cell_type": "code",
   "execution_count": 41,
   "id": "bd5a4ae1",
   "metadata": {},
   "outputs": [
    {
     "name": "stdout",
     "output_type": "stream",
     "text": [
      "                 Generalized Linear Model Regression Results                  \n",
      "==============================================================================\n",
      "Dep. Variable:      lung_cancer_death   No. Observations:                10000\n",
      "Model:                            GLM   Df Residuals:                     9995\n",
      "Model Family:                Binomial   Df Model:                            4\n",
      "Link Function:                  Logit   Scale:                          1.0000\n",
      "Method:                          IRLS   Log-Likelihood:                -5817.8\n",
      "Date:                Thu, 17 Apr 2025   Deviance:                       11636.\n",
      "Time:                        07:17:07   Pearson chi2:                 1.00e+04\n",
      "No. Iterations:                     5   Pseudo R-squ. (CS):            0.06219\n",
      "Covariance Type:            nonrobust                                         \n",
      "======================================================================================================\n",
      "                                         coef    std err          z      P>|z|      [0.025      0.975]\n",
      "------------------------------------------------------------------------------------------------------\n",
      "Intercept                             -0.0642      0.053     -1.204      0.229      -0.169       0.040\n",
      "smoking[T.Yes]                         1.1597      0.073     15.848      0.000       1.016       1.303\n",
      "lung_function[T.impaired]              0.0821      0.065      1.264      0.206      -0.045       0.209\n",
      "lung_function[T.severely_impaired]     0.1314      0.067      1.975      0.048       0.001       0.262\n",
      "residential_location[T.Urban]         -0.0024      0.076     -0.031      0.975      -0.151       0.147\n",
      "======================================================================================================\n",
      "\n",
      "ROC AUC: 0.63\n"
     ]
    }
   ],
   "source": [
    "model_full = smf.glm(\n",
    "    formula='lung_cancer_death ~ smoking + lung_function + residential_location',\n",
    "    data=df,\n",
    "    family=sm.families.Binomial()\n",
    ").fit()\n",
    "\n",
    "print(model_full.summary())\n",
    "\n",
    "y_pred_probs = model_full.predict(df)\n",
    "y_true = df['lung_cancer_death']\n",
    "roc_auc = roc_auc_score(y_true, y_pred_probs)\n",
    "print(f\"\\nROC AUC: {roc_auc:.2f}\")"
   ]
  },
  {
   "cell_type": "code",
   "execution_count": 42,
   "id": "fd8427e9",
   "metadata": {},
   "outputs": [
    {
     "data": {
      "text/html": [
       "<div>\n",
       "<style scoped>\n",
       "    .dataframe tbody tr th:only-of-type {\n",
       "        vertical-align: middle;\n",
       "    }\n",
       "\n",
       "    .dataframe tbody tr th {\n",
       "        vertical-align: top;\n",
       "    }\n",
       "\n",
       "    .dataframe thead th {\n",
       "        text-align: right;\n",
       "    }\n",
       "</style>\n",
       "<table border=\"1\" class=\"dataframe\">\n",
       "  <thead>\n",
       "    <tr style=\"text-align: right;\">\n",
       "      <th></th>\n",
       "      <th>full_OR</th>\n",
       "    </tr>\n",
       "  </thead>\n",
       "  <tbody>\n",
       "    <tr>\n",
       "      <th>Intercept</th>\n",
       "      <td>0.94</td>\n",
       "    </tr>\n",
       "    <tr>\n",
       "      <th>smoking[T.Yes]</th>\n",
       "      <td>3.19</td>\n",
       "    </tr>\n",
       "    <tr>\n",
       "      <th>lung_function[T.impaired]</th>\n",
       "      <td>1.09</td>\n",
       "    </tr>\n",
       "    <tr>\n",
       "      <th>lung_function[T.severely_impaired]</th>\n",
       "      <td>1.14</td>\n",
       "    </tr>\n",
       "    <tr>\n",
       "      <th>residential_location[T.Urban]</th>\n",
       "      <td>1.00</td>\n",
       "    </tr>\n",
       "  </tbody>\n",
       "</table>\n",
       "</div>"
      ],
      "text/plain": [
       "                                    full_OR\n",
       "Intercept                              0.94\n",
       "smoking[T.Yes]                         3.19\n",
       "lung_function[T.impaired]              1.09\n",
       "lung_function[T.severely_impaired]     1.14\n",
       "residential_location[T.Urban]          1.00"
      ]
     },
     "execution_count": 42,
     "metadata": {},
     "output_type": "execute_result"
    }
   ],
   "source": [
    "full_model_OR = get_coef_from_statmodels_model(model_full)\n",
    "full_model_OR = np.exp(full_model_OR).rename(columns={'coef': 'full_OR'})\n",
    "full_model_OR.round(2)"
   ]
  },
  {
   "cell_type": "markdown",
   "id": "eed98d47",
   "metadata": {},
   "source": [
    "# Marginal Odds-Ratios"
   ]
  },
  {
   "cell_type": "code",
   "execution_count": 43,
   "id": "21b4cfb7",
   "metadata": {},
   "outputs": [
    {
     "data": {
      "text/html": [
       "<div>\n",
       "<style scoped>\n",
       "    .dataframe tbody tr th:only-of-type {\n",
       "        vertical-align: middle;\n",
       "    }\n",
       "\n",
       "    .dataframe tbody tr th {\n",
       "        vertical-align: top;\n",
       "    }\n",
       "\n",
       "    .dataframe thead th {\n",
       "        text-align: right;\n",
       "    }\n",
       "</style>\n",
       "<table border=\"1\" class=\"dataframe\">\n",
       "  <thead>\n",
       "    <tr style=\"text-align: right;\">\n",
       "      <th></th>\n",
       "      <th>marginal_OR</th>\n",
       "    </tr>\n",
       "  </thead>\n",
       "  <tbody>\n",
       "    <tr>\n",
       "      <th>smoking</th>\n",
       "      <td>3.35</td>\n",
       "    </tr>\n",
       "    <tr>\n",
       "      <th>residential_location</th>\n",
       "      <td>2.60</td>\n",
       "    </tr>\n",
       "    <tr>\n",
       "      <th>lung_function_sev_imp</th>\n",
       "      <td>2.16</td>\n",
       "    </tr>\n",
       "    <tr>\n",
       "      <th>lung_function_imp</th>\n",
       "      <td>1.88</td>\n",
       "    </tr>\n",
       "  </tbody>\n",
       "</table>\n",
       "</div>"
      ],
      "text/plain": [
       "                       marginal_OR\n",
       "smoking                       3.35\n",
       "residential_location          2.60\n",
       "lung_function_sev_imp         2.16\n",
       "lung_function_imp             1.88"
      ]
     },
     "execution_count": 43,
     "metadata": {},
     "output_type": "execute_result"
    }
   ],
   "source": [
    "marginal_OR = {}\n",
    "\n",
    "marginal_OR['residential_location'] = get_OR_for_treatment(\n",
    "    df[df['residential_location'] == 'Urban'],\n",
    "    df[df['residential_location'] == 'Rural']\n",
    ")\n",
    "\n",
    "marginal_OR['smoking'] = get_OR_for_treatment(\n",
    "    df[df['smoking'] == 'Yes'],\n",
    "    df[df['smoking'] == 'No']\n",
    ")\n",
    "\n",
    "marginal_OR['lung_function_sev_imp'] = get_OR_for_treatment(\n",
    "    df[df['lung_function'] == 'severely_impaired'],\n",
    "    df[df['lung_function'] == 'normal']\n",
    ")\n",
    "\n",
    "marginal_OR['lung_function_imp'] = get_OR_for_treatment(\n",
    "    df[df['lung_function'] == 'impaired'],\n",
    "    df[df['lung_function'] == 'normal']\n",
    ")\n",
    "\n",
    "marginal_OR = pd.Series(marginal_OR, name='marginal_OR').to_frame()\n",
    "marginal_OR.sort_values('marginal_OR', ascending=False).round(2)"
   ]
  },
  {
   "cell_type": "markdown",
   "id": "00c7d239",
   "metadata": {},
   "source": [
    "# Adjusted Models"
   ]
  },
  {
   "cell_type": "code",
   "execution_count": 44,
   "id": "4e5e00e7",
   "metadata": {},
   "outputs": [],
   "source": [
    "adjusted_OR = {}"
   ]
  },
  {
   "cell_type": "markdown",
   "id": "733b1561",
   "metadata": {},
   "source": [
    "### Residential Location"
   ]
  },
  {
   "cell_type": "code",
   "execution_count": 45,
   "id": "cdd7faad",
   "metadata": {},
   "outputs": [
    {
     "name": "stdout",
     "output_type": "stream",
     "text": [
      "                 Generalized Linear Model Regression Results                  \n",
      "==============================================================================\n",
      "Dep. Variable:      lung_cancer_death   No. Observations:                10000\n",
      "Model:                            GLM   Df Residuals:                     9998\n",
      "Model Family:                Binomial   Df Model:                            1\n",
      "Link Function:                  Logit   Scale:                          1.0000\n",
      "Method:                          IRLS   Log-Likelihood:                -5969.9\n",
      "Date:                Thu, 17 Apr 2025   Deviance:                       11940.\n",
      "Time:                        07:17:07   Pearson chi2:                 1.00e+04\n",
      "No. Iterations:                     5   Pseudo R-squ. (CS):            0.03323\n",
      "Covariance Type:            nonrobust                                         \n",
      "=================================================================================================\n",
      "                                    coef    std err          z      P>|z|      [0.025      0.975]\n",
      "-------------------------------------------------------------------------------------------------\n",
      "Intercept                         0.0884      0.045      1.971      0.049       0.000       0.176\n",
      "residential_location[T.Urban]     0.9563      0.052     18.540      0.000       0.855       1.057\n",
      "=================================================================================================\n"
     ]
    }
   ],
   "source": [
    "model_adj = smf.glm(\n",
    "    formula='lung_cancer_death ~ residential_location',\n",
    "    data=df,\n",
    "    family=sm.families.Binomial()\n",
    ").fit()\n",
    "\n",
    "adjusted_OR['residential_location'] = get_coef_from_statmodels_model(model_adj, 'residential_location[T.Urban]')\n",
    "\n",
    "print(model_adj.summary())"
   ]
  },
  {
   "cell_type": "code",
   "execution_count": 46,
   "id": "49a7375c",
   "metadata": {},
   "outputs": [
    {
     "name": "stdout",
     "output_type": "stream",
     "text": [
      "True odds ratio: 2.6162\n",
      "True log odds ratio: 0.9617\n"
     ]
    }
   ],
   "source": [
    "samples_urban = model.simulate(n_samples=N, do={'residential_location': 'Urban'}, show_progress=False)\n",
    "samples_rural = model.simulate(n_samples=N, do={'residential_location': 'Rural'}, show_progress=False)\n",
    "\n",
    "residential_location_OR = get_OR_for_treatment(samples_urban, samples_rural)   \n",
    "print(f'True odds ratio: {residential_location_OR:.4f}\\nTrue log odds ratio: {np.log(residential_location_OR):.4f}')"
   ]
  },
  {
   "cell_type": "markdown",
   "id": "ccdf9407",
   "metadata": {},
   "source": [
    "### Smoking"
   ]
  },
  {
   "cell_type": "code",
   "execution_count": 47,
   "id": "e4cf7db8",
   "metadata": {},
   "outputs": [
    {
     "name": "stdout",
     "output_type": "stream",
     "text": [
      "                 Generalized Linear Model Regression Results                  \n",
      "==============================================================================\n",
      "Dep. Variable:      lung_cancer_death   No. Observations:                10000\n",
      "Model:                            GLM   Df Residuals:                     9997\n",
      "Model Family:                Binomial   Df Model:                            2\n",
      "Link Function:                  Logit   Scale:                          1.0000\n",
      "Method:                          IRLS   Log-Likelihood:                -5819.8\n",
      "Date:                Thu, 17 Apr 2025   Deviance:                       11640.\n",
      "Time:                        07:17:07   Pearson chi2:                 1.00e+04\n",
      "No. Iterations:                     5   Pseudo R-squ. (CS):            0.06182\n",
      "Covariance Type:            nonrobust                                         \n",
      "=================================================================================================\n",
      "                                    coef    std err          z      P>|z|      [0.025      0.975]\n",
      "-------------------------------------------------------------------------------------------------\n",
      "Intercept                        -0.0181      0.046     -0.396      0.692      -0.108       0.072\n",
      "residential_location[T.Urban]     0.0064      0.076      0.084      0.933      -0.142       0.155\n",
      "smoking[T.Yes]                    1.2037      0.069     17.349      0.000       1.068       1.340\n",
      "=================================================================================================\n"
     ]
    }
   ],
   "source": [
    "model_adj = smf.glm(\n",
    "    formula='lung_cancer_death ~ residential_location + smoking',\n",
    "    data=df,\n",
    "    family=sm.families.Binomial()\n",
    ").fit()\n",
    "\n",
    "adjusted_OR['smoking'] = get_coef_from_statmodels_model(model_adj, 'smoking[T.Yes]')\n",
    "\n",
    "print(model_adj.summary())"
   ]
  },
  {
   "cell_type": "code",
   "execution_count": 48,
   "id": "99bc36bf",
   "metadata": {},
   "outputs": [
    {
     "name": "stdout",
     "output_type": "stream",
     "text": [
      "True odds ratio: 3.4160\n",
      "True log odds ratio: 1.2285\n"
     ]
    }
   ],
   "source": [
    "samples_smoke_no = model.simulate(n_samples=N, do={'smoking': 'No'}, show_progress=False)\n",
    "samples_smoke_yes = model.simulate(n_samples=N, do={'smoking': 'Yes'}, show_progress=False)\n",
    "\n",
    "smoking_OR = get_OR_for_treatment(samples_smoke_yes, samples_smoke_no)  \n",
    "print(f'True odds ratio: {smoking_OR:.4f}\\nTrue log odds ratio: {np.log(smoking_OR):.4f}')"
   ]
  },
  {
   "cell_type": "markdown",
   "id": "d5b89b77",
   "metadata": {},
   "source": [
    "### Lung Function"
   ]
  },
  {
   "cell_type": "code",
   "execution_count": 49,
   "id": "f4d52c64",
   "metadata": {},
   "outputs": [
    {
     "name": "stdout",
     "output_type": "stream",
     "text": [
      "                 Generalized Linear Model Regression Results                  \n",
      "==============================================================================\n",
      "Dep. Variable:      lung_cancer_death   No. Observations:                10000\n",
      "Model:                            GLM   Df Residuals:                     9996\n",
      "Model Family:                Binomial   Df Model:                            3\n",
      "Link Function:                  Logit   Scale:                          1.0000\n",
      "Method:                          IRLS   Log-Likelihood:                -5817.8\n",
      "Date:                Thu, 17 Apr 2025   Deviance:                       11636.\n",
      "Time:                        07:17:07   Pearson chi2:                 1.00e+04\n",
      "No. Iterations:                     5   Pseudo R-squ. (CS):            0.06219\n",
      "Covariance Type:            nonrobust                                         \n",
      "======================================================================================================\n",
      "                                         coef    std err          z      P>|z|      [0.025      0.975]\n",
      "------------------------------------------------------------------------------------------------------\n",
      "Intercept                             -0.0649      0.049     -1.334      0.182      -0.160       0.030\n",
      "lung_function[T.impaired]              0.0820      0.065      1.264      0.206      -0.045       0.209\n",
      "lung_function[T.severely_impaired]     0.1313      0.066      1.976      0.048       0.001       0.262\n",
      "smoking[T.Yes]                         1.1582      0.055     21.206      0.000       1.051       1.265\n",
      "======================================================================================================\n"
     ]
    }
   ],
   "source": [
    "model_adj = smf.glm(\n",
    "    formula='lung_cancer_death ~ lung_function + smoking',\n",
    "    data=df,\n",
    "    family=sm.families.Binomial()\n",
    ").fit()\n",
    "\n",
    "adjusted_OR['lung_function_imp'] = get_coef_from_statmodels_model(model_adj, 'lung_function[T.impaired]')\n",
    "adjusted_OR['lung_function_sev_imp'] = get_coef_from_statmodels_model(model_adj, 'lung_function[T.severely_impaired]')\n",
    "\n",
    "print(model_adj.summary())"
   ]
  },
  {
   "cell_type": "code",
   "execution_count": 50,
   "id": "d15c1621",
   "metadata": {},
   "outputs": [
    {
     "name": "stdout",
     "output_type": "stream",
     "text": [
      "True odds ratio (impaired): 1.0136\n",
      "True log odds ratio (impaired): 0.0135\n",
      "\n",
      "True odds ratio (severely_impaired): 0.9890\n",
      "True log odds ratio (severely_impaired): -0.0111\n"
     ]
    }
   ],
   "source": [
    "samples_lung_fun_ref = model.simulate(n_samples=N, do={'lung_function': 'impaired'}, show_progress=False)\n",
    "samples_lung_fun_imp = model.simulate(n_samples=N, do={'lung_function': 'normal'}, show_progress=False)\n",
    "samples_lung_fun_sev_imp = model.simulate(n_samples=N, do={'lung_function': 'severely_impaired'}, show_progress=False)\n",
    "\n",
    "lung_fun_imp_OR = get_OR_for_treatment(samples_lung_fun_imp, samples_lung_fun_ref)\n",
    "lung_fun_sev_imp_OR = get_OR_for_treatment(samples_lung_fun_sev_imp, samples_lung_fun_ref)\n",
    "\n",
    "print(f'True odds ratio (impaired): {lung_fun_imp_OR:.4f}\\nTrue log odds ratio (impaired): {np.log(lung_fun_imp_OR):.4f}')\n",
    "print(f'\\nTrue odds ratio (severely_impaired): {lung_fun_sev_imp_OR:.4f}\\nTrue log odds ratio (severely_impaired): {np.log(lung_fun_sev_imp_OR):.4f}')"
   ]
  },
  {
   "cell_type": "markdown",
   "id": "9a8928be",
   "metadata": {},
   "source": [
    "### Summarize adjusted odds ratios"
   ]
  },
  {
   "cell_type": "code",
   "execution_count": 51,
   "id": "f8c2e2c1",
   "metadata": {},
   "outputs": [
    {
     "data": {
      "text/html": [
       "<div>\n",
       "<style scoped>\n",
       "    .dataframe tbody tr th:only-of-type {\n",
       "        vertical-align: middle;\n",
       "    }\n",
       "\n",
       "    .dataframe tbody tr th {\n",
       "        vertical-align: top;\n",
       "    }\n",
       "\n",
       "    .dataframe thead th {\n",
       "        text-align: right;\n",
       "    }\n",
       "</style>\n",
       "<table border=\"1\" class=\"dataframe\">\n",
       "  <thead>\n",
       "    <tr style=\"text-align: right;\">\n",
       "      <th></th>\n",
       "      <th>adjusted_OR</th>\n",
       "    </tr>\n",
       "  </thead>\n",
       "  <tbody>\n",
       "    <tr>\n",
       "      <th>residential_location</th>\n",
       "      <td>2.60</td>\n",
       "    </tr>\n",
       "    <tr>\n",
       "      <th>smoking</th>\n",
       "      <td>3.33</td>\n",
       "    </tr>\n",
       "    <tr>\n",
       "      <th>lung_function_imp</th>\n",
       "      <td>1.09</td>\n",
       "    </tr>\n",
       "    <tr>\n",
       "      <th>lung_function_sev_imp</th>\n",
       "      <td>1.14</td>\n",
       "    </tr>\n",
       "  </tbody>\n",
       "</table>\n",
       "</div>"
      ],
      "text/plain": [
       "                       adjusted_OR\n",
       "residential_location          2.60\n",
       "smoking                       3.33\n",
       "lung_function_imp             1.09\n",
       "lung_function_sev_imp         1.14"
      ]
     },
     "execution_count": 51,
     "metadata": {},
     "output_type": "execute_result"
    }
   ],
   "source": [
    "adjusted_OR = np.exp(pd.Series(adjusted_OR)).to_frame().rename(columns={0: 'adjusted_OR'}).round(2)\n",
    "adjusted_OR"
   ]
  },
  {
   "cell_type": "markdown",
   "id": "62dc20ff",
   "metadata": {},
   "source": [
    "### Summarize true odds ratios"
   ]
  },
  {
   "cell_type": "code",
   "execution_count": 52,
   "id": "23b27d1b",
   "metadata": {},
   "outputs": [
    {
     "data": {
      "text/html": [
       "<div>\n",
       "<style scoped>\n",
       "    .dataframe tbody tr th:only-of-type {\n",
       "        vertical-align: middle;\n",
       "    }\n",
       "\n",
       "    .dataframe tbody tr th {\n",
       "        vertical-align: top;\n",
       "    }\n",
       "\n",
       "    .dataframe thead th {\n",
       "        text-align: right;\n",
       "    }\n",
       "</style>\n",
       "<table border=\"1\" class=\"dataframe\">\n",
       "  <thead>\n",
       "    <tr style=\"text-align: right;\">\n",
       "      <th></th>\n",
       "      <th>true_OR</th>\n",
       "    </tr>\n",
       "  </thead>\n",
       "  <tbody>\n",
       "    <tr>\n",
       "      <th>residential_location</th>\n",
       "      <td>2.62</td>\n",
       "    </tr>\n",
       "    <tr>\n",
       "      <th>smoking</th>\n",
       "      <td>3.42</td>\n",
       "    </tr>\n",
       "    <tr>\n",
       "      <th>lung_function_imp</th>\n",
       "      <td>1.01</td>\n",
       "    </tr>\n",
       "    <tr>\n",
       "      <th>lung_function_sev_imp</th>\n",
       "      <td>0.99</td>\n",
       "    </tr>\n",
       "  </tbody>\n",
       "</table>\n",
       "</div>"
      ],
      "text/plain": [
       "                       true_OR\n",
       "residential_location      2.62\n",
       "smoking                   3.42\n",
       "lung_function_imp         1.01\n",
       "lung_function_sev_imp     0.99"
      ]
     },
     "execution_count": 52,
     "metadata": {},
     "output_type": "execute_result"
    }
   ],
   "source": [
    "true_OR = pd.Series({\n",
    "    'residential_location': residential_location_OR,\n",
    "    'smoking': smoking_OR,\n",
    "    'lung_function_imp': lung_fun_imp_OR,\n",
    "    'lung_function_sev_imp': lung_fun_sev_imp_OR\n",
    "}, name='true_OR').to_frame()\n",
    "\n",
    "true_OR.round(2)"
   ]
  },
  {
   "cell_type": "markdown",
   "id": "ea480b57",
   "metadata": {},
   "source": [
    "# SHAP values"
   ]
  },
  {
   "cell_type": "code",
   "execution_count": 53,
   "id": "0e841554",
   "metadata": {},
   "outputs": [
    {
     "name": "stdout",
     "output_type": "stream",
     "text": [
      "ROC AUC: 0.63\n"
     ]
    },
    {
     "data": {
      "text/html": [
       "<div>\n",
       "<style scoped>\n",
       "    .dataframe tbody tr th:only-of-type {\n",
       "        vertical-align: middle;\n",
       "    }\n",
       "\n",
       "    .dataframe tbody tr th {\n",
       "        vertical-align: top;\n",
       "    }\n",
       "\n",
       "    .dataframe thead th {\n",
       "        text-align: right;\n",
       "    }\n",
       "</style>\n",
       "<table border=\"1\" class=\"dataframe\">\n",
       "  <thead>\n",
       "    <tr style=\"text-align: right;\">\n",
       "      <th></th>\n",
       "      <th>Feature</th>\n",
       "      <th>mean_abs_SHAP</th>\n",
       "    </tr>\n",
       "  </thead>\n",
       "  <tbody>\n",
       "    <tr>\n",
       "      <th>3</th>\n",
       "      <td>smoking_Yes</td>\n",
       "      <td>0.477</td>\n",
       "    </tr>\n",
       "    <tr>\n",
       "      <th>2</th>\n",
       "      <td>lung_function_severely_impaired</td>\n",
       "      <td>0.040</td>\n",
       "    </tr>\n",
       "    <tr>\n",
       "      <th>1</th>\n",
       "      <td>lung_function_impaired</td>\n",
       "      <td>0.017</td>\n",
       "    </tr>\n",
       "    <tr>\n",
       "      <th>0</th>\n",
       "      <td>residential_location_Urban</td>\n",
       "      <td>0.012</td>\n",
       "    </tr>\n",
       "  </tbody>\n",
       "</table>\n",
       "</div>"
      ],
      "text/plain": [
       "                           Feature  mean_abs_SHAP\n",
       "3                      smoking_Yes          0.477\n",
       "2  lung_function_severely_impaired          0.040\n",
       "1           lung_function_impaired          0.017\n",
       "0       residential_location_Urban          0.012"
      ]
     },
     "metadata": {},
     "output_type": "display_data"
    },
    {
     "name": "stderr",
     "output_type": "stream",
     "text": [
      "/var/folders/c8/1z0fkgc168774_b4ld13pjrr0000gp/T/ipykernel_47197/740168430.py:22: FutureWarning: The NumPy global RNG was seeded by calling `np.random.seed`. In a future version this function will no longer use the global RNG. Pass `rng` explicitly to opt-in to the new behaviour and silence this warning.\n",
      "  shap.summary_plot(shap_values, X, plot_type=\"bar\", show=False)\n"
     ]
    },
    {
     "data": {
      "image/png": "[encoded data removed]",
      "text/plain": [
       "<Figure size 800x310 with 1 Axes>"
      ]
     },
     "metadata": {},
     "output_type": "display_data"
    }
   ],
   "source": [
    "X = pd.get_dummies(df.drop(\"lung_cancer_death\", axis=1), drop_first=True)\n",
    "y = df[\"lung_cancer_death\"]\n",
    "\n",
    "xgb_model = xgb.XGBClassifier(random_state=1)\n",
    "xgb_model.fit(X, y)\n",
    "\n",
    "roc_auc = roc_auc_score(y, xgb_model.predict_proba(X)[:, 1])\n",
    "print(f\"ROC AUC: {roc_auc:.2f}\")\n",
    "\n",
    "explainer = shap.TreeExplainer(xgb_model)\n",
    "shap_values = explainer.shap_values(X)\n",
    "\n",
    "# Create a DataFrame summarizing the mean absolute SHAP values per feature\n",
    "mean_abs_shap = np.abs(shap_values).mean(axis=0)\n",
    "shap_summary_df = pd.DataFrame({\n",
    "    \"Feature\": X.columns,\n",
    "    \"mean_abs_SHAP\": mean_abs_shap\n",
    "}).sort_values(\"mean_abs_SHAP\", ascending=False)\n",
    "\n",
    "display(shap_summary_df.round(3))\n",
    "\n",
    "shap.summary_plot(shap_values, X, plot_type=\"bar\", show=False)\n",
    "ax = plt.gca()\n",
    "ax.set_title(\"Mean Absolute SHAP Values by Feature\", fontsize=10)\n",
    "ax.set_xlabel('Mean Absolute SHAP Value', fontsize=10)\n",
    "ax.tick_params(axis='y', labelsize=11)  # Set the y-ticks font size to 8"
   ]
  },
  {
   "cell_type": "code",
   "execution_count": 54,
   "id": "8a0c37c9",
   "metadata": {},
   "outputs": [
    {
     "data": {
      "image/png": "[encoded data removed]",
      "text/plain": [
       "<Figure size 800x310 with 2 Axes>"
      ]
     },
     "metadata": {},
     "output_type": "display_data"
    }
   ],
   "source": [
    "shap.plots.beeswarm(explainer(X))"
   ]
  },
  {
   "cell_type": "markdown",
   "id": "5998531b",
   "metadata": {},
   "source": [
    "# Results"
   ]
  },
  {
   "cell_type": "code",
   "execution_count": 55,
   "id": "ab3e4d3e",
   "metadata": {},
   "outputs": [
    {
     "data": {
      "text/html": [
       "<div>\n",
       "<style scoped>\n",
       "    .dataframe tbody tr th:only-of-type {\n",
       "        vertical-align: middle;\n",
       "    }\n",
       "\n",
       "    .dataframe tbody tr th {\n",
       "        vertical-align: top;\n",
       "    }\n",
       "\n",
       "    .dataframe thead th {\n",
       "        text-align: right;\n",
       "    }\n",
       "</style>\n",
       "<table border=\"1\" class=\"dataframe\">\n",
       "  <thead>\n",
       "    <tr style=\"text-align: right;\">\n",
       "      <th></th>\n",
       "      <th>full_OR</th>\n",
       "      <th>true_OR</th>\n",
       "      <th>marginal_OR</th>\n",
       "      <th>mean_abs_SHAP</th>\n",
       "      <th>adjusted_OR</th>\n",
       "    </tr>\n",
       "  </thead>\n",
       "  <tbody>\n",
       "    <tr>\n",
       "      <th>smoking</th>\n",
       "      <td>3.19</td>\n",
       "      <td>3.42</td>\n",
       "      <td>3.35</td>\n",
       "      <td>0.48</td>\n",
       "      <td>3.33</td>\n",
       "    </tr>\n",
       "    <tr>\n",
       "      <th>lung_function_imp</th>\n",
       "      <td>1.09</td>\n",
       "      <td>1.01</td>\n",
       "      <td>1.88</td>\n",
       "      <td>0.02</td>\n",
       "      <td>1.09</td>\n",
       "    </tr>\n",
       "    <tr>\n",
       "      <th>lung_function_sev_imp</th>\n",
       "      <td>1.14</td>\n",
       "      <td>0.99</td>\n",
       "      <td>2.16</td>\n",
       "      <td>0.04</td>\n",
       "      <td>1.14</td>\n",
       "    </tr>\n",
       "    <tr>\n",
       "      <th>residential_location</th>\n",
       "      <td>1.00</td>\n",
       "      <td>2.62</td>\n",
       "      <td>2.60</td>\n",
       "      <td>0.01</td>\n",
       "      <td>2.60</td>\n",
       "    </tr>\n",
       "  </tbody>\n",
       "</table>\n",
       "</div>"
      ],
      "text/plain": [
       "                       full_OR  true_OR  marginal_OR  mean_abs_SHAP  \\\n",
       "smoking                   3.19     3.42         3.35           0.48   \n",
       "lung_function_imp         1.09     1.01         1.88           0.02   \n",
       "lung_function_sev_imp     1.14     0.99         2.16           0.04   \n",
       "residential_location      1.00     2.62         2.60           0.01   \n",
       "\n",
       "                       adjusted_OR  \n",
       "smoking                       3.33  \n",
       "lung_function_imp             1.09  \n",
       "lung_function_sev_imp         1.14  \n",
       "residential_location          2.60  "
      ]
     },
     "execution_count": 55,
     "metadata": {},
     "output_type": "execute_result"
    }
   ],
   "source": [
    "full_model_OR.drop(index=['Intercept'], inplace=True)\n",
    "full_model_OR.rename(index={'smoking[T.Yes]': 'smoking', 'lung_function[T.impaired]': 'lung_function_imp',\n",
    "                              'lung_function[T.severely_impaired]': 'lung_function_sev_imp', 'residential_location[T.Urban]': 'residential_location'\n",
    "                              }, inplace=True)\n",
    "shap_summary_df = shap_summary_df.set_index('Feature').rename(index=\n",
    "                                                              {'smoking_Yes': 'smoking', 'lung_function_severely_impaired': 'lung_function_sev_imp',\n",
    "                                                               'lung_function_impaired': 'lung_function_imp', \n",
    "                                                               'residential_location_Urban': 'residential_location'})\n",
    "\n",
    "results = full_model_OR.merge(true_OR, left_index=True, right_index=True)\\\n",
    "    .merge(marginal_OR, left_index=True, right_index=True)\\\n",
    "    .merge(shap_summary_df, left_index=True, right_index=True)\\\n",
    "    .merge(adjusted_OR, left_index=True, right_index=True)\n",
    "\n",
    "results.round(2)"
   ]
  },
  {
   "cell_type": "code",
   "execution_count": 56,
   "id": "cea71982",
   "metadata": {},
   "outputs": [
    {
     "data": {
      "image/png": "[encoded data removed]",
      "text/plain": [
       "<Figure size 800x500 with 1 Axes>"
      ]
     },
     "metadata": {},
     "output_type": "display_data"
    }
   ],
   "source": [
    "plot_cols = ['full_OR', 'true_OR', 'marginal_OR']\n",
    "ax = results.loc[:, plot_cols].plot(kind='bar', figsize=(8, 5))\n",
    "ax.set_ylabel(\"Odds Ratio\")\n",
    "ax.set_title(\"Comparison of Different Odds Ratios Estimates\")\n",
    "\n",
    "ax.set_xticklabels(ax.get_xticklabels(), rotation=45)\n",
    "\n",
    "new_labels = [\"Full Model\", \"True\", \"Marginal\"]  # order must match or_cols.columns\n",
    "plt.legend(labels=new_labels)\n",
    "plt.tight_layout()"
   ]
  },
  {
   "cell_type": "code",
   "execution_count": 57,
   "id": "b9bd246e",
   "metadata": {},
   "outputs": [
    {
     "data": {
      "image/png": "[encoded data removed]",
      "text/plain": [
       "<Figure size 800x500 with 1 Axes>"
      ]
     },
     "metadata": {},
     "output_type": "display_data"
    }
   ],
   "source": [
    "# Normalize \"true_OR\" so it sums to 1\n",
    "results[\"true_OR_norm\"] = results[\"true_OR\"] / results[\"true_OR\"].sum()\n",
    "\n",
    "# Normalize \"Mean Absolute SHAP Value\" so it sums to 1\n",
    "results[\"mean_abs_shap_norm\"] = (\n",
    "    results[\"mean_abs_SHAP\"] / results[\"mean_abs_SHAP\"].sum()\n",
    ")\n",
    "\n",
    "ax = results[[\"true_OR_norm\", \"mean_abs_shap_norm\"]].plot(kind=\"bar\", figsize=(8, 5))\n",
    "ax.set_ylabel(\"Normalized Value\")\n",
    "ax.set_title(\"Normalized True Odds Ratio vs. Normalized Mean Absolute SHAP Value\")\n",
    "ax.set_xticklabels(ax.get_xticklabels(), rotation=45)\n",
    "new_labels = [\"True effect (norm)\", \"Mean abs. SHAP (norm)\"]  # order must match or_cols.columns\n",
    "plt.legend(labels=new_labels)\n",
    "plt.tight_layout()"
   ]
  },
  {
   "cell_type": "markdown",
   "id": "b8459bdf",
   "metadata": {},
   "source": [
    "# Full Model Assumptions DAG"
   ]
  },
  {
   "cell_type": "code",
   "execution_count": 60,
   "id": "d4e5d9f6",
   "metadata": {},
   "outputs": [
    {
     "data": {
      "image/svg+xml": [
       "<?xml version=\"1.0\" encoding=\"UTF-8\" standalone=\"no\"?>\n",
       "<!DOCTYPE svg PUBLIC \"-//W3C//DTD SVG 1.1//EN\"\n",
       " \"http://www.w3.org/Graphics/SVG/1.1/DTD/svg11.dtd\">\n",
       "<!-- Generated by graphviz version 12.2.1 (20241206.2353)\n",
       " -->\n",
       "<!-- Pages: 1 -->\n",
       "<svg width=\"423pt\" height=\"174pt\"\n",
       " viewBox=\"0.00 0.00 423.21 174.08\" xmlns=\"http://www.w3.org/2000/svg\" xmlns:xlink=\"http://www.w3.org/1999/xlink\">\n",
       "<g id=\"graph0\" class=\"graph\" transform=\"scale(1 1) rotate(0) translate(4 170.08)\">\n",
       "<polygon fill=\"white\" stroke=\"none\" points=\"-4,4 -4,-170.08 419.21,-170.08 419.21,4 -4,4\"/>\n",
       "<!-- residential_location -->\n",
       "<g id=\"node1\" class=\"node\">\n",
       "<title>residential_location</title>\n",
       "<ellipse fill=\"none\" stroke=\"black\" cx=\"83.6\" cy=\"-138\" rx=\"83.6\" ry=\"18\"/>\n",
       "<text text-anchor=\"middle\" x=\"83.6\" y=\"-132.95\" font-family=\"Times,serif\" font-size=\"14.00\">residential_location</text>\n",
       "</g>\n",
       "<!-- lung_cancer_death -->\n",
       "<g id=\"node2\" class=\"node\">\n",
       "<title>lung_cancer_death</title>\n",
       "<ellipse fill=\"none\" stroke=\"black\" cx=\"228.6\" cy=\"-28\" rx=\"80.52\" ry=\"18\"/>\n",
       "<text text-anchor=\"middle\" x=\"228.6\" y=\"-22.95\" font-family=\"Times,serif\" font-size=\"14.00\">lung_cancer_death</text>\n",
       "</g>\n",
       "<!-- residential_location&#45;&gt;lung_cancer_death -->\n",
       "<g id=\"edge1\" class=\"edge\">\n",
       "<title>residential_location&#45;&gt;lung_cancer_death</title>\n",
       "<path fill=\"none\" stroke=\"black\" d=\"M105.93,-120.36C130.38,-102.15 169.75,-72.83 197.27,-52.33\"/>\n",
       "<polygon fill=\"black\" stroke=\"black\" points=\"199.33,-55.16 205.26,-46.38 195.14,-49.55 199.33,-55.16\"/>\n",
       "</g>\n",
       "<!-- smoking -->\n",
       "<g id=\"node3\" class=\"node\">\n",
       "<title>smoking</title>\n",
       "<ellipse fill=\"none\" stroke=\"black\" cx=\"228.6\" cy=\"-138\" rx=\"43.16\" ry=\"18\"/>\n",
       "<text text-anchor=\"middle\" x=\"228.6\" y=\"-132.95\" font-family=\"Times,serif\" font-size=\"14.00\">smoking</text>\n",
       "</g>\n",
       "<!-- smoking&#45;&gt;lung_cancer_death -->\n",
       "<g id=\"edge2\" class=\"edge\">\n",
       "<title>smoking&#45;&gt;lung_cancer_death</title>\n",
       "<path fill=\"none\" stroke=\"black\" d=\"M228.6,-119.65C228.6,-102.96 228.6,-77.42 228.6,-57.7\"/>\n",
       "<polygon fill=\"black\" stroke=\"black\" points=\"232.1,-57.82 228.6,-47.82 225.1,-57.82 232.1,-57.82\"/>\n",
       "</g>\n",
       "<!-- lung_function -->\n",
       "<g id=\"node4\" class=\"node\">\n",
       "<title>lung_function</title>\n",
       "<ellipse fill=\"none\" stroke=\"black\" cx=\"352.6\" cy=\"-138\" rx=\"62.61\" ry=\"18\"/>\n",
       "<text text-anchor=\"middle\" x=\"352.6\" y=\"-132.95\" font-family=\"Times,serif\" font-size=\"14.00\">lung_function</text>\n",
       "</g>\n",
       "<!-- lung_function&#45;&gt;lung_cancer_death -->\n",
       "<g id=\"edge3\" class=\"edge\">\n",
       "<title>lung_function&#45;&gt;lung_cancer_death</title>\n",
       "<path fill=\"none\" stroke=\"black\" d=\"M333.76,-120.6C313.22,-102.7 280.11,-73.87 256.54,-53.34\"/>\n",
       "<polygon fill=\"black\" stroke=\"black\" points=\"259,-50.84 249.16,-46.91 254.4,-56.12 259,-50.84\"/>\n",
       "</g>\n",
       "</g>\n",
       "</svg>\n"
      ],
      "text/plain": [
       "<graphviz.sources.Source at 0x34f302110>"
      ]
     },
     "execution_count": 60,
     "metadata": {},
     "output_type": "execute_result"
    }
   ],
   "source": [
    "model = BayesianNetwork([\n",
    "    ('residential_location', 'lung_cancer_death'),\n",
    "    ('smoking', 'lung_cancer_death'),\n",
    "    ('lung_function', 'lung_cancer_death')\n",
    "])\n",
    "\n",
    "dot = model.to_graphviz()\n",
    "dot.graph_attr.update(ratio=0.4)\n",
    "graphviz.Source(dot.to_string())"
   ]
  }
 ],
 "metadata": {
  "kernelspec": {
   "display_name": "ron_exp_3.10",
   "language": "python",
   "name": "ron_exp_3.10"
  },
  "language_info": {
   "codemirror_mode": {
    "name": "ipython",
    "version": 3
   },
   "file_extension": ".py",
   "mimetype": "text/x-python",
   "name": "python",
   "nbconvert_exporter": "python",
   "pygments_lexer": "ipython3",
   "version": "3.10.10"
  }
 },
 "nbformat": 4,
 "nbformat_minor": 5
}
